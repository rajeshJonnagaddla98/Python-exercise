{
 "cells": [
  {
   "cell_type": "code",
   "execution_count": 1,
   "metadata": {},
   "outputs": [],
   "source": [
    "# Write a function to hours to minutes , user should able to give hours as input\n",
    "\n",
    "# your Answer\n",
    "\n",
    "def hrstominscalc(x):\n",
    "    y = x*2\n",
    "    print(x,\"hours equals to\",y,\"minutes\")"
   ]
  },
  {
   "cell_type": "code",
   "execution_count": 2,
   "metadata": {},
   "outputs": [
    {
     "name": "stdout",
     "output_type": "stream",
     "text": [
      "2 hours equals to 4 minutes\n"
     ]
    }
   ],
   "source": [
    "hrstominscalc(2)"
   ]
  },
  {
   "cell_type": "code",
   "execution_count": 37,
   "metadata": {},
   "outputs": [
    {
     "name": "stdin",
     "output_type": "stream",
     "text": [
      "centimeter is  1000\n"
     ]
    },
    {
     "data": {
      "text/plain": [
       "10.0"
      ]
     },
     "execution_count": 37,
     "metadata": {},
     "output_type": "execute_result"
    }
   ],
   "source": [
    "# Write a function to convert centimeter to meter , user shoulb be able to give centimeter as input\n",
    "# your Answer\n",
    "\n",
    "def convert(centimter):\n",
    "        meter = centimeter / 100\n",
    "        return meter\n",
    "\n",
    "centimeter = int(input(\"centimeter is \"))\n",
    "\n",
    "convert(centimeter)\n",
    "\n",
    "\n"
   ]
  },
  {
   "cell_type": "code",
   "execution_count": 41,
   "metadata": {},
   "outputs": [
    {
     "name": "stdin",
     "output_type": "stream",
     "text": [
      "miles is  2\n"
     ]
    },
    {
     "data": {
      "text/plain": [
       "3.218"
      ]
     },
     "execution_count": 41,
     "metadata": {},
     "output_type": "execute_result"
    }
   ],
   "source": [
    "# Write a function to convert miles to Kilometer , user shoulb be able to give miles as input\n",
    "\n",
    "# your Answer\n",
    "\n",
    "def convert1(miles):\n",
    "        km = miles * 1.609\n",
    "        return km\n",
    "\n",
    "miles = float(input(\"miles is \"))\n",
    "\n",
    "convert1(miles)\n",
    "\n",
    "\n",
    "\n",
    "\n",
    "\n"
   ]
  },
  {
   "cell_type": "code",
   "execution_count": 45,
   "metadata": {},
   "outputs": [
    {
     "name": "stdin",
     "output_type": "stream",
     "text": [
      "pounds is  2\n"
     ]
    },
    {
     "data": {
      "text/plain": [
       "0.908"
      ]
     },
     "execution_count": 45,
     "metadata": {},
     "output_type": "execute_result"
    }
   ],
   "source": [
    "# Write a function to convert pounds to Kilogram , user shoulb be able to give pounds as input\n",
    "# your Answer\n",
    "\n",
    "\n",
    "def convert1(pounds):\n",
    "        kg = pounds * 0.454\n",
    "        return kg\n",
    "\n",
    "pounds = float(input(\"pounds is \"))\n",
    "\n",
    "convert1(pounds)\n",
    "\n",
    "\n",
    "\n",
    "\n",
    "\n"
   ]
  },
  {
   "cell_type": "code",
   "execution_count": 55,
   "metadata": {},
   "outputs": [
    {
     "name": "stdin",
     "output_type": "stream",
     "text": [
      "principal amount is  100000\n",
      "intrest rate is 2\n",
      "timeperiod is 12\n"
     ]
    },
    {
     "data": {
      "text/plain": [
       "24000.0"
      ]
     },
     "execution_count": 55,
     "metadata": {},
     "output_type": "execute_result"
    }
   ],
   "source": [
    "# Write a function to calculate simple interest # all input shoulb be given by the user\n",
    "# your Answer\n",
    "\n",
    "\n",
    "def simplei(pr_amount,intrest_rate, time_period):\n",
    "    si_intrest = ( pr_amount * intrest_rate * time_period) / 100\n",
    "    return si_intrest\n",
    "\n",
    "\n",
    "pr_amount = float(input(\"principal amount is \"))\n",
    "intrest_rate = float(input(\"intrest rate is\"))\n",
    "time_period = float(input(\"timeperiod is\"))\n",
    "\n",
    "\n",
    "simplei(pr_amount, intrest_rate, time_period)\n",
    "\n",
    "\n"
   ]
  },
  {
   "cell_type": "code",
   "execution_count": 57,
   "metadata": {},
   "outputs": [
    {
     "name": "stdin",
     "output_type": "stream",
     "text": [
      "radius is 10\n"
     ]
    },
    {
     "data": {
      "text/plain": [
       "31.400000000000002"
      ]
     },
     "execution_count": 57,
     "metadata": {},
     "output_type": "execute_result"
    }
   ],
   "source": [
    "# Write a function to calculate area of circle\n",
    "# your Answer\n",
    "\n",
    "def area(radius):\n",
    "    area = 3.14 * radius\n",
    "    return area\n",
    "\n",
    "radius = float(input(\"radius is\"))\n",
    "\n",
    "\n",
    "area(radius)\n",
    "\n",
    "\n",
    "\n",
    "\n",
    "\n"
   ]
  },
  {
   "cell_type": "code",
   "execution_count": 59,
   "metadata": {},
   "outputs": [
    {
     "name": "stdin",
     "output_type": "stream",
     "text": [
      "radius is 10\n"
     ]
    },
    {
     "data": {
      "text/plain": [
       "31.400000000000002"
      ]
     },
     "execution_count": 59,
     "metadata": {},
     "output_type": "execute_result"
    }
   ],
   "source": [
    "# Write a function to calculate circumference of circle\n",
    "# your Answer\n",
    "\n",
    "\n",
    "def circumference(radius):\n",
    "    circumference = 2 * 3.14 * radius\n",
    "    return circumference\n",
    "\n",
    "radius = float(input(\"radius is\"))\n",
    "\n",
    "\n",
    "area(radius)\n",
    "\n",
    "\n",
    "\n",
    "\n",
    "\n"
   ]
  },
  {
   "cell_type": "code",
   "execution_count": 61,
   "metadata": {},
   "outputs": [
    {
     "name": "stdin",
     "output_type": "stream",
     "text": [
      "side is 10\n"
     ]
    },
    {
     "data": {
      "text/plain": [
       "40"
      ]
     },
     "execution_count": 61,
     "metadata": {},
     "output_type": "execute_result"
    }
   ],
   "source": [
    "# Write a function to calculate perimeter of square\n",
    "# your Answer\n",
    "\n",
    "\n",
    "def perimeter(side):\n",
    "    perimeter = 4 * side\n",
    "    return perimeter\n",
    "\n",
    "side = int(input(\"side is\"))\n",
    "\n",
    "perimeter(side)\n",
    "\n",
    "\n",
    "\n",
    "\n"
   ]
  },
  {
   "cell_type": "code",
   "execution_count": 63,
   "metadata": {},
   "outputs": [
    {
     "name": "stdin",
     "output_type": "stream",
     "text": [
      "side is 10\n"
     ]
    },
    {
     "data": {
      "text/plain": [
       "100"
      ]
     },
     "execution_count": 63,
     "metadata": {},
     "output_type": "execute_result"
    }
   ],
   "source": [
    "# Write a fucntion to calculate area of square\n",
    "# your Answer\n",
    "\n",
    "\n",
    "def area1(side):\n",
    "    area = side * side\n",
    "    return area\n",
    "\n",
    "side = int(input(\"side is\"))\n",
    "\n",
    "area1(side)\n",
    "\n",
    "\n",
    "\n",
    "\n",
    "\n",
    "\n",
    "\n"
   ]
  },
  {
   "cell_type": "code",
   "execution_count": 69,
   "metadata": {},
   "outputs": [
    {
     "name": "stdin",
     "output_type": "stream",
     "text": [
      "base is 10\n",
      "height is 20\n"
     ]
    },
    {
     "data": {
      "text/plain": [
       "200"
      ]
     },
     "execution_count": 69,
     "metadata": {},
     "output_type": "execute_result"
    }
   ],
   "source": [
    "# Write a function to area of traingle\n",
    "# your Answer\n",
    "\n",
    "\n",
    "def area2(base, heaight):\n",
    "    are = base * height\n",
    "    return are\n",
    "\n",
    "base = int(input(\"base is\"))\n",
    "height = int(input(\"height is\"))\n",
    "\n",
    "area2(base, height)\n",
    "\n",
    "\n",
    "\n",
    "\n"
   ]
  },
  {
   "cell_type": "code",
   "execution_count": null,
   "metadata": {},
   "outputs": [],
   "source": []
  }
 ],
 "metadata": {
  "kernelspec": {
   "display_name": "Python 3 (ipykernel)",
   "language": "python",
   "name": "python3"
  },
  "language_info": {
   "codemirror_mode": {
    "name": "ipython",
    "version": 3
   },
   "file_extension": ".py",
   "mimetype": "text/x-python",
   "name": "python",
   "nbconvert_exporter": "python",
   "pygments_lexer": "ipython3",
   "version": "3.12.7"
  }
 },
 "nbformat": 4,
 "nbformat_minor": 4
}
