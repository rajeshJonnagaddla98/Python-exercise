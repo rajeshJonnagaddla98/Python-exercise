{
 "cells": [
  {
   "cell_type": "markdown",
   "metadata": {},
   "source": [
    "# Dictionary Simple Questions"
   ]
  },
  {
   "cell_type": "code",
   "execution_count": 1,
   "metadata": {},
   "outputs": [
    {
     "name": "stdout",
     "output_type": "stream",
     "text": [
      "{0: 10, 1: 20, 2: 30}\n"
     ]
    }
   ],
   "source": [
    "'''1. Write a Python program to add a new key to the dictionary.\n",
    "    Data:\n",
    "        x = {0: 10, 1: 20}\n",
    "        y = {2: 30}\n",
    "    Expected Output:\n",
    "        {0: 10, 1: 20, 2: 30}'''\n",
    "\n",
    "x = {0: 10, 1: 20}\n",
    "y = {2: 30}\n",
    "x.update(y)\n",
    "\n",
    "print(x)\n",
    "        \n",
    "        \n",
    "        "
   ]
  },
  {
   "cell_type": "code",
   "execution_count": 13,
   "metadata": {},
   "outputs": [
    {
     "name": "stdout",
     "output_type": "stream",
     "text": [
      "{'a'} -> {10}\n",
      "{'b'} -> {20}\n",
      "{'c'} -> {30}\n"
     ]
    }
   ],
   "source": [
    "'''2. Write a Python program to iterate over dictionaries using for loops.\n",
    "    Data:\n",
    "        d = {\"a\":10, \"b\":20, \"c\":30,}\n",
    "    Expected Output:\n",
    "        a -> 10\n",
    "        b -> 20\n",
    "        c -> 30'''\n",
    "        \n",
    "d = {\"a\":10, \"b\":20, \"c\":30,}\n",
    "\n",
    "for key, value in d.items():\n",
    "    print({key}, \"->\", {value})\n",
    "        \n",
    "        "
   ]
  },
  {
   "cell_type": "code",
   "execution_count": 23,
   "metadata": {},
   "outputs": [
    {
     "name": "stdout",
     "output_type": "stream",
     "text": [
      "250\n"
     ]
    }
   ],
   "source": [
    "'''3. Write a Python program to sum all the values in a dictionary. \n",
    "    Data:\n",
    "        d = {\"data1\":100, \"data2\":-50, \"data3\":200}\n",
    "    Expected Output:\n",
    "        250'''\n",
    "\n",
    "d = {\"data1\":100, \"data2\":-50, \"data3\":200}\n",
    "sum = 0\n",
    "\n",
    "for key, value in d.items():\n",
    "    sum = sum + value\n",
    "\n",
    "print(sum)\n",
    "        "
   ]
  },
  {
   "cell_type": "code",
   "execution_count": 25,
   "metadata": {},
   "outputs": [
    {
     "name": "stdout",
     "output_type": "stream",
     "text": [
      "-1000000\n"
     ]
    }
   ],
   "source": [
    "'''4. Write a Python program to multiply all the values in a dictionary.\n",
    "    Data:\n",
    "        d={\"data1\":100, \"data2\":-50, \"data3\":200}\n",
    "    Expected Output:\n",
    "        -1000000'''\n",
    "\n",
    "d={\"data1\":100, \"data2\":-50, \"data3\":200}\n",
    "mul1 = 1\n",
    "\n",
    "for key, value in d.items():\n",
    "    mul1 = mul1 * value\n",
    "\n",
    "print(mul1)\n",
    "        \n",
    "        \n",
    "        \n",
    "        "
   ]
  },
  {
   "cell_type": "code",
   "execution_count": 33,
   "metadata": {},
   "outputs": [
    {
     "name": "stdout",
     "output_type": "stream",
     "text": [
      "{'a': 1, 'b': 2, 'd': 4}\n"
     ]
    }
   ],
   "source": [
    "'''5. Write a Python program to remove a key from a dictionary.\n",
    "    Data:\n",
    "        d={\"a\":1,\"b\":2,\"c\":3,\"d\":4}\n",
    "    Expected Output:\n",
    "        {'a': 1, 'b': 2, 'c': 3, 'd': 4}\n",
    "        {'b': 2, 'c': 3, 'd': 4}'''\n",
    "        \n",
    "d={\"a\":1,\"b\":2,\"c\":3,\"d\":4}\n",
    "d.pop(\"c\")\n",
    "print(d)\n",
    "        \n",
    "        "
   ]
  },
  {
   "cell_type": "code",
   "execution_count": 39,
   "metadata": {},
   "outputs": [
    {
     "name": "stdout",
     "output_type": "stream",
     "text": [
      "{'Chandler': 'Sarcasm', 'Monica': 'Chef', 'Joey': 'Food'}\n"
     ]
    }
   ],
   "source": [
    "'''6. Write a Python program to map two lists into a dictionary.\n",
    "    Data:\n",
    "        keys = [\"Chandler\", \"Monica\", \"Joey\"]\n",
    "        values = [\"Sarcasm\", \"Chef\", \"Food\"]\n",
    "    Expected Output:\n",
    "        {'Chandler': 'Sarcasm', 'Monica': 'Chef', 'Joey': 'Food'}'''\n",
    "keys = [\"Chandler\", \"Monica\", \"Joey\"]\n",
    "values = [\"Sarcasm\", \"Chef\", \"Food\"]\n",
    "d1 = dict(zip(keys,values))\n",
    "print(d1)\n",
    "        \n",
    "        \n"
   ]
  },
  {
   "cell_type": "code",
   "execution_count": 41,
   "metadata": {},
   "outputs": [
    {
     "name": "stdout",
     "output_type": "stream",
     "text": [
      "Chandler : Sarcasm\n",
      "Monica : Chef\n",
      "Joey : Food\n",
      "Ross : Dinosaur\n",
      "Rachel : Fashion\n"
     ]
    }
   ],
   "source": [
    "'''7. Write a Python program to sort a dictionary by key. \n",
    "    Data:\n",
    "        dict = {'Chandler': 'Sarcasm', 'Monica': 'Chef', 'Joey': 'Food', 'Ross': 'Dinosaur', 'Rachel': 'Fashion'}\n",
    "\n",
    "    Expected Output:\n",
    "        Chandler: Sarcasm\n",
    "        Joey: Food\n",
    "        Monica: Chef\n",
    "        Rachel: Fashion\n",
    "        Ross: Dinosaur'''\n",
    "\n",
    "dict = {'Chandler': 'Sarcasm', 'Monica': 'Chef', 'Joey': 'Food', 'Ross': 'Dinosaur', 'Rachel': 'Fashion'}\n",
    "\n",
    "for keys,values in dict.items():\n",
    "    print(keys , \":\", values)\n",
    "            \n",
    "            \n",
    "            \n"
   ]
  },
  {
   "cell_type": "code",
   "execution_count": 45,
   "metadata": {},
   "outputs": [
    {
     "name": "stdout",
     "output_type": "stream",
     "text": [
      "Dictionary is not empty\n"
     ]
    }
   ],
   "source": [
    "'''8. Write a Python program to check whether a dictionary is empty or not.\n",
    "    Data:\n",
    "        dict={}\n",
    "    Expected Output:\n",
    "        Dictionary is empty'''\n",
    "\n",
    "dict={}\n",
    "\n",
    "if not d:\n",
    "    print(\"Dictionary is empty\")\n",
    "else:\n",
    "    print(\"Dictionary is not empty\")\n",
    "\n",
    "        \n",
    "        "
   ]
  },
  {
   "cell_type": "code",
   "execution_count": 47,
   "metadata": {},
   "outputs": [
    {
     "name": "stdout",
     "output_type": "stream",
     "text": [
      "physics\n",
      "math\n",
      "chemistry\n"
     ]
    }
   ],
   "source": [
    "'''9. Write a Python program to print the keys by index in a dictionary.\n",
    "    Data:\n",
    "        d = {'physics': 90, 'math': 100, 'chemistry': 96}\n",
    "    Expected Output:\n",
    "        physics\n",
    "        math\n",
    "        chemistry'''\n",
    "        \n",
    "d = {'physics': 90, 'math': 100, 'chemistry': 96}\n",
    "\n",
    "for keys, values in d.items():\n",
    "    print(keys)\n",
    "        \n",
    "        "
   ]
  },
  {
   "cell_type": "code",
   "execution_count": 53,
   "metadata": {},
   "outputs": [
    {
     "name": "stdout",
     "output_type": "stream",
     "text": [
      "{1: 10, 2: 20, 3: 30, 4: 40, 5: 50, 6: 60}\n"
     ]
    }
   ],
   "source": [
    "'''10. Write a Python program to concatenate following dictionaries to create a new one.\n",
    "    Data:\n",
    "        d1={1:10, 2:20} \n",
    "        d2={3:30, 4:40} \n",
    "        d3={5:50, 6:60}\n",
    "    Expected Output:\n",
    "        {1: 10, 2: 20, 3: 30, 4: 40, 5: 50, 6: 60}'''\n",
    "\n",
    "d1={1:10, 2:20} \n",
    "d2={3:30, 4:40} \n",
    "d3={5:50, 6:60}\n",
    "\n",
    "d1.update(d2)\n",
    "d1.update(d3)\n",
    "\n",
    "print(d1)\n",
    "        \n",
    "        \n"
   ]
  },
  {
   "cell_type": "code",
   "execution_count": 61,
   "metadata": {},
   "outputs": [
    {
     "name": "stdout",
     "output_type": "stream",
     "text": [
      "{1: 1, 2: 4, 3: 9, 4: 16, 5: 25, 6: 36}\n"
     ]
    }
   ],
   "source": [
    "'''11. Write a Python program to generate a dictionary that has length n and the elements in the format of {x: x*x}. \n",
    "    Data:\n",
    "         n = 6\n",
    "    Expected Output:\n",
    "        {1: 1, 2: 4, 3: 9, 4: 16, 5: 25, 6: 36}'''\n",
    "\n",
    "n = 6\n",
    "\n",
    "d2 = { x : x*x for x in range(1, n+1)}\n",
    "\n",
    "print(d2)\n",
    "        \n",
    "        \n",
    "        \n",
    "        "
   ]
  },
  {
   "cell_type": "code",
   "execution_count": 67,
   "metadata": {},
   "outputs": [
    {
     "name": "stdout",
     "output_type": "stream",
     "text": [
      "{1: 1, 2: 4, 3: 9, 4: 16, 5: 25, 6: 36, 7: 49, 8: 64, 9: 81, 10: 100, 11: 121, 12: 144, 13: 169, 14: 196, 15: 225}\n"
     ]
    }
   ],
   "source": [
    "'''12. Write a Python program to print a dictionary where the keys are numbers between 1 and 15 (both included) and \n",
    "    the values are square of keys.\n",
    "    Expected Output:\n",
    "        {1: 1, 2: 4, 3: 9, 4: 16, 5: 25, 6: 36, 7: 49, 8: 64, 9: 81, 10: 100, 11: 121, 12: 144, 13: 169, 14: 196, 15: 225}'''\n",
    "n = 15\n",
    "d3 = {x : x * x for x in range (1, n+1)}\n",
    "print(d3)\n",
    "        \n",
    "        \n",
    "        "
   ]
  },
  {
   "cell_type": "code",
   "execution_count": 69,
   "metadata": {},
   "outputs": [
    {
     "name": "stdout",
     "output_type": "stream",
     "text": [
      "{'a': 10, 'b': 20, 'x': 30, 'y': 40}\n"
     ]
    }
   ],
   "source": [
    "'''13. Write a Python program to merge two dictionaries. \n",
    "    Data:\n",
    "        d1 = {\"a\":10, \"b\":20}\n",
    "        d2 = {\"x\":30, \"y\":40}\n",
    "    Expected Output:\n",
    "        {'a': 10, 'b': 20, 'x': 30, 'y': 40}'''\n",
    "d1 = {\"a\":10, \"b\":20}\n",
    "d2 = {\"x\":30, \"y\":40}        \n",
    "\n",
    "d1.update(d2)\n",
    "\n",
    "print(d1)\n",
    "        \n",
    "        \n",
    "        "
   ]
  },
  {
   "cell_type": "code",
   "execution_count": 71,
   "metadata": {},
   "outputs": [
    {
     "name": "stdout",
     "output_type": "stream",
     "text": [
      "Bihar    Patna\n",
      "Sikkim    Gangtok\n",
      "Goa    Panaji\n"
     ]
    }
   ],
   "source": [
    "'''14. Write a Python program to iterate over a dictionary and print all the keys and values using for loops.\n",
    "    Data:\n",
    "        d = {\"Bihar\":'Patna', \"Sikkim\":'Gangtok', \"Goa\":'Panaji'}\n",
    "    Expected Output:\n",
    "        Bihar   Patna\n",
    "        Sikkim  Gangtok\n",
    "        Goa     Panaji'''\n",
    "d = {\"Bihar\":'Patna', \"Sikkim\":'Gangtok', \"Goa\":'Panaji'}\n",
    "for keys,values in d.items():\n",
    "    print(keys, \"  \", values)\n",
    "\n",
    "\n",
    "        \n",
    "        \n",
    "        "
   ]
  },
  {
   "cell_type": "code",
   "execution_count": 79,
   "metadata": {},
   "outputs": [
    {
     "name": "stdout",
     "output_type": "stream",
     "text": [
      "Counter({'a': 40, 'b': 40, 'd': 40, 'c': 30})\n"
     ]
    }
   ],
   "source": [
    "'''15. Write a Python program to add the values of common keys by combining two dictionaries.\n",
    "    Data:\n",
    "        d1 = {'a': 10, 'b': 20, 'c':30}\n",
    "        d2 = {'a': 30, 'b': 20, 'd':40}\n",
    "    Expected Output:    \n",
    "        Counter({'a': 40, 'b': 40, 'd': 40, 'c': 30})'''\n",
    "\n",
    "from collections import Counter\n",
    "\n",
    "d1 = {'a': 10, 'b': 20, 'c': 30}\n",
    "d2 = {'a': 30, 'b': 20, 'd': 40}\n",
    "\n",
    "counter1 = Counter(d1)\n",
    "counter2 = Counter(d2)\n",
    "\n",
    "\n",
    "result = counter1 + counter2\n",
    "\n",
    "print(result)\n",
    "    \n",
    "    "
   ]
  },
  {
   "cell_type": "code",
   "execution_count": 81,
   "metadata": {},
   "outputs": [
    {
     "name": "stdout",
     "output_type": "stream",
     "text": [
      "ac\n",
      "ad\n",
      "bc\n",
      "bd\n"
     ]
    }
   ],
   "source": [
    "'''16. Write a Python program to create and display all combinations of letters, selecting each letter from a different key in a dictionary.\n",
    "    Data:\n",
    "        {'1':['a','b'], '2':['c','d']}\n",
    "    Expected Output: \n",
    "        ac\n",
    "        ad\n",
    "        bc\n",
    "        bd'''\n",
    "\n",
    "data = {'1': ['a', 'b'], '2': ['c', 'd']}\n",
    "list1 = data['1']\n",
    "list2 = data['2']\n",
    "\n",
    "for letter1 in list1:\n",
    "    for letter2 in list2:\n",
    "        print(letter1 + letter2)\n",
    "        \n",
    "        "
   ]
  },
  {
   "cell_type": "code",
   "execution_count": 83,
   "metadata": {},
   "outputs": [
    {
     "name": "stdout",
     "output_type": "stream",
     "text": [
      "['b', 'e', 'c']\n"
     ]
    }
   ],
   "source": [
    "'''17. Write a Python program to find the highest 3 values and print the corresponding keys from a dictionary.\n",
    "    Data:\n",
    "        d = {'a':500, 'b':5874, 'c': 560,'d':400, 'e':5874, 'f': 20} \n",
    "    Expected Output: \n",
    "        ['b', 'e', 'c']'''\n",
    "        \n",
    "d = {'a':500, 'b':5874, 'c': 560,'d':400, 'e':5874, 'f': 20}\n",
    "\n",
    "top_keys = []\n",
    "\n",
    "for _ in range(3):\n",
    "    max_value = None\n",
    "    max_key = None\n",
    "    for key, value in d.items():\n",
    "        if (max_value is None) or (value > max_value):\n",
    "            max_value = value\n",
    "            max_key = key\n",
    "    top_keys.append(max_key)\n",
    "    del d[max_key]\n",
    "\n",
    "print(top_keys)\n",
    "    \n",
    "        \n"
   ]
  },
  {
   "cell_type": "code",
   "execution_count": 85,
   "metadata": {},
   "outputs": [
    {
     "name": "stdout",
     "output_type": "stream",
     "text": [
      "C1 C2 C3\n",
      "1 5 9\n",
      "2 6 10\n",
      "3 7 11\n"
     ]
    }
   ],
   "source": [
    "'''18. Write a Python program to print the dictionary in a table format.\n",
    "    Data:\n",
    "        d = {'C1':[1,2,3], 'C2':[5,6,7], 'C3':[9,10,11]}\n",
    "    Expected Output:\n",
    "        C1 C2 C3\n",
    "        1  5  9\n",
    "        2  6  10\n",
    "        3  7  11'''\n",
    "        \n",
    "d = {'C1': [1, 2, 3], 'C2': [5, 6, 7], 'C3': [9, 10, 11]}\n",
    "\n",
    "headers = d.keys()\n",
    "print(' '.join(headers))\n",
    "\n",
    "num_rows = len(next(iter(d.values())))\n",
    "\n",
    "for i in range(num_rows):\n",
    "    row_values = [str(d[key][i]) for key in headers]\n",
    "    print(' '.join(row_values))        \n",
    "        \n",
    "        "
   ]
  },
  {
   "cell_type": "code",
   "execution_count": 89,
   "metadata": {},
   "outputs": [
    {
     "name": "stdout",
     "output_type": "stream",
     "text": [
      "{1: {2: {3: {4: {}}}}}\n"
     ]
    }
   ],
   "source": [
    "'''19. Write a Python program to convert a list into a nested dictionary of keys.\n",
    "    Data:\n",
    "        d = [1, 2, 3, 4]\n",
    "    Expected Output:\n",
    "        {1: {2: {3: {4: {}}}}}'''\n",
    "\n",
    "\n",
    "lst = [1, 2, 3, 4]\n",
    "\n",
    "nested_dict = {}\n",
    "\n",
    "current_level = nested_dict\n",
    "\n",
    "for key in lst:\n",
    "    current_level[key] = {}\n",
    "    current_level = current_level[key]\n",
    "\n",
    "print(nested_dict)\n",
    "        \n",
    "        \n",
    "        \n",
    "        "
   ]
  },
  {
   "cell_type": "code",
   "execution_count": 91,
   "metadata": {},
   "outputs": [
    {
     "name": "stdout",
     "output_type": "stream",
     "text": [
      "{'n1': [1, 2, 3], 'n2': [1, 2, 5], 'n3': [2, 3, 4]}\n"
     ]
    }
   ],
   "source": [
    "'''20. Write a Python program to sort a list of values alphabetically in a dictionary.\n",
    "    Data:\n",
    "        d = {'n1': [2, 3, 1], 'n2': [5, 1, 2], 'n3': [3, 2, 4]}\n",
    "    Expected Output:\n",
    "        {'n1': [1, 2, 3], 'n2': [1, 2, 5], 'n3': [2, 3, 4]}'''\n",
    "          \n",
    "d = {'n1': [2, 3, 1], 'n2': [5, 1, 2], 'n3': [3, 2, 4]}\n",
    "\n",
    "sorted_d = {key: sorted(value) for key, value in d.items()}\n",
    "\n",
    "print(sorted_d)          \n",
    "            \n",
    "            "
   ]
  },
  {
   "cell_type": "code",
   "execution_count": null,
   "metadata": {},
   "outputs": [],
   "source": []
  }
 ],
 "metadata": {
  "kernelspec": {
   "display_name": "Python 3 (ipykernel)",
   "language": "python",
   "name": "python3"
  },
  "language_info": {
   "codemirror_mode": {
    "name": "ipython",
    "version": 3
   },
   "file_extension": ".py",
   "mimetype": "text/x-python",
   "name": "python",
   "nbconvert_exporter": "python",
   "pygments_lexer": "ipython3",
   "version": "3.12.7"
  }
 },
 "nbformat": 4,
 "nbformat_minor": 4
}
