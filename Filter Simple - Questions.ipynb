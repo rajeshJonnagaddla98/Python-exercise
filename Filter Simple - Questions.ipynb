{
 "cells": [
  {
   "cell_type": "markdown",
   "metadata": {},
   "source": [
    "# Filter Simple Questions"
   ]
  },
  {
   "cell_type": "code",
   "execution_count": 35,
   "metadata": {},
   "outputs": [
    {
     "name": "stdout",
     "output_type": "stream",
     "text": [
      "The filtered vowels are:\n",
      "i o e e\n"
     ]
    }
   ],
   "source": [
    "'''1. Write a python program to filter only the vowels from the given list of letters.\n",
    "Data:\n",
    "    letters = ['b', 'i', 'o', 's', 'p', 'h', 'e', 'r', 'e']\n",
    "Expected output:\n",
    "    The filtered vowels are:\n",
    "    i o e e'''\n",
    "letters = ['b', 'i', 'o', 's', 'p', 'h', 'e', 'r', 'e']\n",
    "\n",
    "def funct(letter):\n",
    "    vowels = ['a','e','i','o','u']\n",
    "    if(letter in vowels):\n",
    "        return True\n",
    "    else:\n",
    "        return False\n",
    "    \n",
    "y = filter(funct,letters)\n",
    "print(\"The filtered vowels are:\")\n",
    "print(' '.join(y))\n",
    "    "
   ]
  },
  {
   "cell_type": "code",
   "execution_count": 43,
   "metadata": {},
   "outputs": [
    {
     "name": "stdout",
     "output_type": "stream",
     "text": [
      "[1, 3, 5, 13]\n"
     ]
    }
   ],
   "source": [
    "'''2. Write a python program to filter only the odd numbers from the given list of numbers.\n",
    "Data:\n",
    "    seq = [0, 1, 2, 3, 5, 8, 13]\n",
    "Expected output:\n",
    "    Odd numbers from list : [1, 3, 5, 13]'''\n",
    "\n",
    "seq = [0, 1, 2, 3, 5, 8, 13]\n",
    "\n",
    "y = list(filter(lambda x : x%2 != 0, seq))\n",
    "\n",
    "print(y)\n",
    "        "
   ]
  },
  {
   "cell_type": "code",
   "execution_count": 45,
   "metadata": {},
   "outputs": [
    {
     "name": "stdout",
     "output_type": "stream",
     "text": [
      "[0, 2, 8]\n"
     ]
    }
   ],
   "source": [
    "'''3. Write a python program to filter only the even numbers from the given list of numbers.\n",
    "Data:\n",
    "    seq = [0, 1, 2, 3, 5, 8, 13]\n",
    "Expected output:\n",
    "    Even numbers from list : [0, 2, 8]'''\n",
    "\n",
    "seq = [0, 1, 2, 3, 5, 8, 13]\n",
    "\n",
    "y = list(filter(lambda x : x%2 == 0, seq))\n",
    "\n",
    "print(y)\n",
    "        "
   ]
  },
  {
   "cell_type": "code",
   "execution_count": 47,
   "metadata": {},
   "outputs": [
    {
     "name": "stdout",
     "output_type": "stream",
     "text": [
      "Ages >= 18 :  18\n",
      "Ages >= 18 :  24\n",
      "Ages >= 18 :  32\n"
     ]
    }
   ],
   "source": [
    "'''4. Write a python function to filter only those ages which are >= 18 from the given list of ages.\n",
    "Data:\n",
    "    ages = [5, 12, 17, 18, 24, 32]\n",
    "Expected output:\n",
    "    Ages >= 18 :  18\n",
    "    Ages >= 18 :  24\n",
    "    Ages >= 18 :  32'''\n",
    "\n",
    "ages = [5, 12, 17, 18, 24, 32]\n",
    "\n",
    "def func(x):\n",
    "    if x < 18:\n",
    "        return False\n",
    "    else:\n",
    "        return True\n",
    "adults = filter(func, ages)\n",
    "for x in adults:\n",
    "    print(\"Ages >= 18 : \", x)\n",
    "        "
   ]
  },
  {
   "cell_type": "code",
   "execution_count": 49,
   "metadata": {},
   "outputs": [
    {
     "name": "stdout",
     "output_type": "stream",
     "text": [
      "[3, 4, 5]\n"
     ]
    }
   ],
   "source": [
    "'''5. Write a python program to filter the numbers which are greater than 3 from the given list.\n",
    "Data:\n",
    "    l = [1, 2, 3, 4, 5]\n",
    "Expected output:\n",
    "    <filter object at 0x000001CA3E981040>\n",
    "    Values >=3 : [3, 4, 5]'''\n",
    "l = [1, 2, 3, 4, 5]\n",
    "\n",
    "y = list(filter(lambda x : x>=3, l))    \n",
    "\n",
    "print(y)"
   ]
  },
  {
   "cell_type": "code",
   "execution_count": 51,
   "metadata": {},
   "outputs": [
    {
     "name": "stdout",
     "output_type": "stream",
     "text": [
      "['Obama', 'Annadurai', 'Atkinson']\n"
     ]
    }
   ],
   "source": [
    "'''6. Write a python program to filter only those names starts with a vowel from a given list of names.\n",
    "Data:\n",
    "    names = ['Obama', 'Annadurai', 'Jackson', 'Atkinson', 'Jackie', 'Charlie']\n",
    "Expected output:\n",
    "    ['Obama', 'Annadurai', 'Atkinson']'''\n",
    "\n",
    "names = ['Obama', 'Annadurai', 'Jackson', 'Atkinson', 'Jackie', 'Charlie']\n",
    "\n",
    "def vowels(x):\n",
    "    return x[0].lower() in 'aeiou'\n",
    "\n",
    "y = list(filter(vowels, names))\n",
    "\n",
    "print(y)\n",
    "    "
   ]
  },
  {
   "cell_type": "code",
   "execution_count": 55,
   "metadata": {},
   "outputs": [
    {
     "name": "stdout",
     "output_type": "stream",
     "text": [
      "[1, True]\n"
     ]
    }
   ],
   "source": [
    "'''7. Write a python program to print only the non-zero values and true values from the given list using filter().\n",
    "Data:\n",
    "    l = [1, 0, False, True]\n",
    "Expected output:\n",
    "    [1, True]'''\n",
    "l = [1, 0, False, True]\n",
    "\n",
    "result = filter(None,(l)) \n",
    "result = list(result)   \n",
    "\n",
    "print(result)\n"
   ]
  },
  {
   "cell_type": "code",
   "execution_count": 59,
   "metadata": {},
   "outputs": [
    {
     "name": "stdout",
     "output_type": "stream",
     "text": [
      "[3, 6, 9, 12]\n"
     ]
    }
   ],
   "source": [
    "'''8. Write a python function to print only the multiples of 3 from the given list using filter().\n",
    "Data:\n",
    "    l = [1, 3, 5, 6, 8, 9, 12, 14]\n",
    "Expected output:\n",
    "    [3, 6, 9, 12]'''\n",
    "\n",
    "l = [1, 3, 5, 6, 8, 9, 12, 14]\n",
    "\n",
    "y = list(filter(lambda x : x % 3 == 0, l))\n",
    "\n",
    "print(y)\n",
    "    "
   ]
  },
  {
   "cell_type": "code",
   "execution_count": 61,
   "metadata": {},
   "outputs": [
    {
     "name": "stdout",
     "output_type": "stream",
     "text": [
      "('Jack', 'Jill', 'Steve')\n"
     ]
    }
   ],
   "source": [
    "'''9. Write a python program to print only the non-empty strings from the given tuple using filter(). (Use None)\n",
    "Data:\n",
    "    names = ('Jack', 'Jill', 'Steve', '')\n",
    "Expected output:\n",
    "    ('Jack', 'Jill', 'Steve')'''\n",
    "\n",
    "names = ('Jack', 'Jill', 'Steve', '')\n",
    "\n",
    "print(tuple(filter(None, names)))\n",
    "    "
   ]
  },
  {
   "cell_type": "code",
   "execution_count": 63,
   "metadata": {},
   "outputs": [
    {
     "name": "stdout",
     "output_type": "stream",
     "text": [
      "('Shar', 'Sarav')\n"
     ]
    }
   ],
   "source": [
    "'''10. Write a python program to filter only the names which starts with S from the given tuple.\n",
    "Data:\n",
    "    names = ('Shar', 'Sarav', 'Ajeth', '')\n",
    "Expected output:\n",
    "    ('Shar', 'Sarav')'''\n",
    "\n",
    "names = ('Shar', 'Sarav', 'Ajeth', '')\n",
    "\n",
    "def func(element):\n",
    "    if len(element) > 0:\n",
    "        return element[0] == 'S'\n",
    "    return False\n",
    "print(tuple(filter(func, names)))\n",
    "    "
   ]
  },
  {
   "cell_type": "code",
   "execution_count": null,
   "metadata": {},
   "outputs": [],
   "source": []
  }
 ],
 "metadata": {
  "kernelspec": {
   "display_name": "Python 3 (ipykernel)",
   "language": "python",
   "name": "python3"
  },
  "language_info": {
   "codemirror_mode": {
    "name": "ipython",
    "version": 3
   },
   "file_extension": ".py",
   "mimetype": "text/x-python",
   "name": "python",
   "nbconvert_exporter": "python",
   "pygments_lexer": "ipython3",
   "version": "3.12.7"
  }
 },
 "nbformat": 4,
 "nbformat_minor": 4
}
