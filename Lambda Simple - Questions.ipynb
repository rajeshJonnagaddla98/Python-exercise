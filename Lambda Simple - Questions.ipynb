{
 "cells": [
  {
   "cell_type": "markdown",
   "metadata": {},
   "source": [
    "# Lambda Simple Questions"
   ]
  },
  {
   "cell_type": "code",
   "execution_count": 1,
   "metadata": {},
   "outputs": [
    {
     "name": "stdout",
     "output_type": "stream",
     "text": [
      "13\n"
     ]
    }
   ],
   "source": [
    "'''1. Write a python lambda function to summarize arguments a, b, and c and return the result.\n",
    "Data:\n",
    "    5, 6, 2\n",
    "Expected outout:\n",
    "    13'''\n",
    "\n",
    "x = lambda a, b, c : a + b + c\n",
    "print(x(5, 6, 2))"
   ]
  },
  {
   "cell_type": "code",
   "execution_count": 5,
   "metadata": {},
   "outputs": [
    {
     "name": "stdout",
     "output_type": "stream",
     "text": [
      "30\n"
     ]
    }
   ],
   "source": [
    "'''2. write a python lambda function to multiply argument a with argument b and return the result.\n",
    "Data:\n",
    "    5, 6\n",
    "Expected output:\n",
    "    30'''\n",
    "y = lambda c, d : c * d\n",
    "print(y(5,6))"
   ]
  },
  {
   "cell_type": "code",
   "execution_count": 13,
   "metadata": {},
   "outputs": [
    {
     "name": "stdout",
     "output_type": "stream",
     "text": [
      "15\n"
     ]
    }
   ],
   "source": [
    "'''3. Write a python lambda function to add 10 to argument a, and return the result.\n",
    "Data:\n",
    "    a = 5\n",
    "Expected output:\n",
    "    15'''\n",
    "\n",
    "z = lambda a : a + 10\n",
    "print(z(5))"
   ]
  },
  {
   "cell_type": "code",
   "execution_count": 69,
   "metadata": {},
   "outputs": [
    {
     "name": "stdout",
     "output_type": "stream",
     "text": [
      "[4, 6, 8, 12]\n"
     ]
    }
   ],
   "source": [
    "'''4. Write a python lambda function to filter out only the even items from a list.\n",
    "Data:\n",
    "    my_list = [1, 5, 4, 6, 8, 11, 3, 12]\n",
    "Expected output:\n",
    "    [4, 6, 8, 12]'''\n",
    "my_list = [1, 5, 4, 6, 8, 11, 3, 12]\n",
    "y = list(filter(lambda x : x % 2 == 0, my_list))\n",
    "\n",
    "print(list(y))\n"
   ]
  },
  {
   "cell_type": "code",
   "execution_count": 33,
   "metadata": {},
   "outputs": [
    {
     "name": "stdout",
     "output_type": "stream",
     "text": [
      "[2, 10, 8, 12, 16, 22, 6, 24]\n"
     ]
    }
   ],
   "source": [
    "'''5.  Write a python lambda function to double each item in a list using map().\n",
    "Data:\n",
    "    my_list = [1, 5, 4, 6, 8, 11, 3, 12]\n",
    "Expected output:\n",
    "    [2, 10, 8, 12, 16, 22, 6, 24]'''\n",
    "\n",
    "my_list = [1, 5, 4, 6, 8, 11, 3, 12]\n",
    "\n",
    "my_list1 = list(map(lambda x : x * 2 , my_list))\n",
    "\n",
    "print(list(my_list1))"
   ]
  },
  {
   "cell_type": "code",
   "execution_count": 67,
   "metadata": {},
   "outputs": [
    {
     "name": "stdout",
     "output_type": "stream",
     "text": [
      "[5, 7, 97, 77, 23, 73, 61]\n"
     ]
    }
   ],
   "source": [
    "'''6. Write a python code to illustrate filter() with lambda() to return only the odd numbers from a given list.\n",
    "Data:\n",
    "    li = [5, 7, 22, 97, 54, 62, 77, 23, 73, 61]\n",
    "Expected output:\n",
    "    [5, 7, 97, 77, 23, 73, 61]'''\n",
    "\n",
    "li = [5, 7, 22, 97, 54, 62, 77, 23, 73, 61]\n",
    "\n",
    "y = list(filter(lambda x : (x % 2 != 0), li))\n",
    "\n",
    "print(list(y))"
   ]
  },
  {
   "cell_type": "code",
   "execution_count": 49,
   "metadata": {},
   "outputs": [
    {
     "name": "stdout",
     "output_type": "stream",
     "text": [
      "[90, 59, 21, 60]\n"
     ]
    }
   ],
   "source": [
    "'''7. Write a python code to filter people above 18 years using lambda function.\n",
    "Data:\n",
    "    ages = [13, 90, 17, 59, 21, 60, 5]\n",
    "Expected output:\n",
    "    [90, 59, 21, 60]'''\n",
    "\n",
    "ages = [13, 90, 17, 59, 21, 60, 5]\n",
    "\n",
    "adults = list(filter(lambda age: age>18, ages))\n",
    "print(adults)"
   ]
  },
  {
   "cell_type": "code",
   "execution_count": 53,
   "metadata": {},
   "outputs": [
    {
     "name": "stdout",
     "output_type": "stream",
     "text": [
      "Value : 5\n",
      "Double : 10\n",
      "Triple : 15\n"
     ]
    }
   ],
   "source": [
    "'''8. Write a python function which has a lambda function to return double and triple of a given value.\n",
    "Data:\n",
    "    value = 5\n",
    "Expected output:\n",
    "    Value : 5\n",
    "    Double : 10\n",
    "    Triple : 15'''\n",
    "\n",
    "def func(n):\n",
    "    return lambda a : a * n\n",
    "\n",
    "x = func(2)\n",
    "y = func(3)\n",
    "\n",
    "value = 5\n",
    "print(\"Value :\", value)\n",
    "print(\"Double :\", x(value))\n",
    "print(\"Triple :\", y(value))"
   ]
  },
  {
   "cell_type": "code",
   "execution_count": 59,
   "metadata": {},
   "outputs": [
    {
     "name": "stdout",
     "output_type": "stream",
     "text": [
      "[10, 14, 44, 194, 108, 124, 154, 46, 146, 122]\n"
     ]
    }
   ],
   "source": [
    "'''9. Write a python code to illustrate map() with lambda() to get double of each items in a given list.\n",
    "Data:\n",
    "    li = [5, 7, 22, 97, 54, 62, 77, 23, 73, 61]\n",
    "Expected output:\n",
    "    [10, 14, 44, 194, 108, 124, 154, 46, 146, 122]'''\n",
    "li = [5, 7, 22, 97, 54, 62, 77, 23, 73, 61]\n",
    "\n",
    "y = list(map(lambda x: x*2, li))\n",
    "\n",
    "print(list(y))\n"
   ]
  },
  {
   "cell_type": "code",
   "execution_count": 61,
   "metadata": {},
   "outputs": [
    {
     "name": "stdout",
     "output_type": "stream",
     "text": [
      "['DOG', 'CAT', 'PARROT', 'RABBIT']\n"
     ]
    }
   ],
   "source": [
    "'''10. Write a python program to convert lower cases in a given list of strings into upper cases using lambda() and map() function.\n",
    "Data:\n",
    "    animals = ['dog', 'cat', 'parrot', 'rabbit']\n",
    "Expected output:\n",
    "    ['DOG', 'CAT', 'PARROT', 'RABBIT']'''\n",
    "\n",
    "animals = ['dog', 'cat', 'parrot', 'rabbit']\n",
    "\n",
    "y = list(map(lambda animal: str.upper(animal), animals))\n",
    "\n",
    "print(list(y))"
   ]
  },
  {
   "cell_type": "code",
   "execution_count": null,
   "metadata": {},
   "outputs": [],
   "source": []
  }
 ],
 "metadata": {
  "kernelspec": {
   "display_name": "Python 3 (ipykernel)",
   "language": "python",
   "name": "python3"
  },
  "language_info": {
   "codemirror_mode": {
    "name": "ipython",
    "version": 3
   },
   "file_extension": ".py",
   "mimetype": "text/x-python",
   "name": "python",
   "nbconvert_exporter": "python",
   "pygments_lexer": "ipython3",
   "version": "3.12.7"
  }
 },
 "nbformat": 4,
 "nbformat_minor": 4
}
