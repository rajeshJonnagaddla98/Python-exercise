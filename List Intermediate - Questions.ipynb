{
 "cells": [
  {
   "cell_type": "markdown",
   "metadata": {},
   "source": [
    "# List Intermediate - Questions"
   ]
  },
  {
   "cell_type": "code",
   "execution_count": 31,
   "metadata": {},
   "outputs": [
    {
     "name": "stdout",
     "output_type": "stream",
     "text": [
      "2\n"
     ]
    }
   ],
   "source": [
    "''' 1. Write a Python program to count the number of strings where the string length is 2 or more and\n",
    "            the first and last characters of a string are same from the given data.\n",
    "        Data:\n",
    "            ['abc', 'xyz', 'aba', '1221']\n",
    "        Expected Output:\n",
    "            2 '''\n",
    "x = ['abc', 'xyz', 'aba', '1221']\n",
    "\n",
    "count = 0\n",
    "\n",
    "for i in x:\n",
    "    if len(i) >= 2  and  i[0] == i[-1]:\n",
    "        count = count + 1\n",
    "\n",
    "print(count)\n",
    "            "
   ]
  },
  {
   "cell_type": "code",
   "execution_count": 115,
   "metadata": {},
   "outputs": [
    {
     "name": "stdout",
     "output_type": "stream",
     "text": [
      "['quick', 'brown', 'jumps', 'over', 'lazy']\n"
     ]
    }
   ],
   "source": [
    "''' 2. Write a Python function to find the list of words which are longer than the specified length from the given data.\n",
    "        Data:\n",
    "            (3, \"The quick brown fox jumps over the lazy dog\")\n",
    "        Expected Output:\n",
    "            ['quick', 'brown', 'jumps', 'over', 'lazy'] '''\n",
    "\n",
    "\n",
    "def find_long_words(length, sentence):\n",
    "    words = sentence.split()\n",
    "    long_words = [word for word in words if len(word) > length]\n",
    "    return long_words\n",
    "\n",
    "\n",
    "length = 3\n",
    "sentence = \"The quick brown fox jumps over the lazy dog\"\n",
    "\n",
    "result = find_long_words(length, sentence)\n",
    "\n",
    "print(result)"
   ]
  },
  {
   "cell_type": "code",
   "execution_count": 45,
   "metadata": {},
   "outputs": [
    {
     "name": "stdout",
     "output_type": "stream",
     "text": [
      "True\n",
      "False\n"
     ]
    }
   ],
   "source": [
    "''' 3. Write a Python function that takes two parameters as lists and returns True if they have at least one common element.\n",
    "        Data:\n",
    "            (a, b) = ([1,2,2,4,5], [5,6,6,8,9])\n",
    "            (a, b) = ([1,2,3,5,5], [6,7,9,9])\n",
    "        Expected Output:\n",
    "            True \n",
    "            None '''\n",
    "def fun1(list1,list2):\n",
    "    set1 = set(list1)\n",
    "    set2 = set(list2)\n",
    "    return not set1.isdisjoint(set2)\n",
    "\n",
    "a1, b1 = [1,2,2,4,5], [5,6,6,8,9]\n",
    "a2, b2 = [1,2,3,5,5], [6,7,9,9]\n",
    "\n",
    "print(fun1(a1,b1))\n",
    "print(fun1(a2,b2))\n",
    "      "
   ]
  },
  {
   "cell_type": "code",
   "execution_count": 117,
   "metadata": {},
   "outputs": [
    {
     "name": "stdout",
     "output_type": "stream",
     "text": [
      "[['*', '*', '*', '*', '*', '*'], ['*', '*', '*', '*', '*', '*'], ['*', '*', '*', '*', '*', '*'], ['*', '*', '*', '*', '*', '*']]\n",
      "[['*', '*', '*', '*', '*', '*'], ['*', '*', '*', '*', '*', '*'], ['*', '*', '*', '*', '*', '*'], ['*', '*', '*', '*', '*', '*']]\n",
      "[['*', '*', '*', '*', '*', '*'], ['*', '*', '*', '*', '*', '*'], ['*', '*', '*', '*', '*', '*'], ['*', '*', '*', '*', '*', '*']]\n"
     ]
    }
   ],
   "source": [
    "# 4. Write a Python program to generate a 3*4*6 3D array whose each element is '*'. \n",
    "\n",
    "array_3d = [[['*' for _ in range(6)] for _ in range(4)] for _ in range(3)]\n",
    "\n",
    "for layer in array_3d:\n",
    "    print(layer)\n"
   ]
  },
  {
   "cell_type": "code",
   "execution_count": 49,
   "metadata": {},
   "outputs": [
    {
     "name": "stdout",
     "output_type": "stream",
     "text": [
      "[1, 4, 9, 16, 25, 36, 49, 64, 81, 100, 121, 144, 169, 196, 225, 256, 289, 324, 361, 400, 441, 484, 529, 576, 625, 676, 729, 784, 841, 900]\n",
      "[1, 4, 9, 16, 25]\n",
      "[676, 729, 784, 841, 900]\n"
     ]
    }
   ],
   "source": [
    "''' 5. Write a Python program to generate and print a list of first and last 5 elements where the values are square of numbers \n",
    "       between 1 and 30 (both included).\n",
    "    Data:\n",
    "        range(1, 31) \n",
    "    Expected Output:\n",
    "        Squares of first 5 numbers between 1 to 30: [1, 4, 9, 16, 25]\n",
    "        Squares of last 5 numbers between 1 to 30: [676, 729, 784, 841, 900] '''\n",
    "        \n",
    "x = [x ** 2 for x in range(1,31)]\n",
    "\n",
    "print(x)\n",
    "\n",
    "first_five = x[0:5]\n",
    "last_five = x[-5:]\n",
    "\n",
    "print(first_five)\n",
    "print(last_five)"
   ]
  },
  {
   "cell_type": "code",
   "execution_count": 65,
   "metadata": {},
   "outputs": [
    {
     "name": "stdout",
     "output_type": "stream",
     "text": [
      "-2\n"
     ]
    }
   ],
   "source": [
    "''' 6. Write a Python program to find the second smallest number in a list.\n",
    "        Data:\n",
    "            lt = [1, 2, -8, -2, 0, -2]\n",
    "        Expected output:\n",
    "            -2 '''\n",
    "lt = [1, 2, -8, -2, 0, -2]\n",
    "\n",
    "set3 = set(lt)\n",
    "lt1 = list(set3)\n",
    "lt1.sort()\n",
    "\n",
    "print(lt1[1])\n",
    "    "
   ]
  },
  {
   "cell_type": "code",
   "execution_count": 75,
   "metadata": {},
   "outputs": [
    {
     "name": "stdout",
     "output_type": "stream",
     "text": [
      "4\n"
     ]
    }
   ],
   "source": [
    "''' 7. Write a Python program to find the second largest number in a list.\n",
    "        Data:\n",
    "            lt = [1, 2, 3, 5, 4]\n",
    "        Expected output:\n",
    "            4 '''\n",
    "lt = [1, 2, 3, 5, 4]\n",
    "lt.sort()\n",
    "\n",
    "print(lt[3])\n",
    "\n",
    "\n"
   ]
  },
  {
   "cell_type": "code",
   "execution_count": 81,
   "metadata": {},
   "outputs": [
    {
     "name": "stdout",
     "output_type": "stream",
     "text": [
      "{10: 4, 20: 3, 30: 2, 40: 2, 50: 2}\n"
     ]
    }
   ],
   "source": [
    "''' 8. Write a Python program to get the frequency of the elements in a list and \n",
    "            print the occurances as a list of dictionary as shown in the expected output.\n",
    "        Data:\n",
    "            Original List :  [10, 10, 10, 10, 20, 20, 20, 30, 40, 40, 50, 50, 30]\n",
    "        Expected Output:\n",
    "            Frequency of the elements in the List :  Counter({10: 4, 20: 3, 30: 2, 40: 2, 50: 2}) '''\n",
    "            \n",
    "L1 = [10, 10, 10, 10, 20, 20, 20, 30, 40, 40, 50, 50, 30]        \n",
    "fd = {}\n",
    "\n",
    "for i in L1:\n",
    "    if i in fd:\n",
    "        fd[i] = fd[i] + 1\n",
    "    else:\n",
    "        fd[i] = 1\n",
    "\n",
    "print(fd)\n"
   ]
  },
  {
   "cell_type": "code",
   "execution_count": 85,
   "metadata": {},
   "outputs": [
    {
     "name": "stdout",
     "output_type": "stream",
     "text": [
      "True\n",
      "False\n"
     ]
    }
   ],
   "source": [
    "''' 9. Write a Python program to check whether a list contains a sublist or not. Return True if present, false if not.\n",
    "        Data:\n",
    "            a = [2,4,3,5,7]\n",
    "            sublist1 = [4,3]\n",
    "            sublist2 = [3,7]\n",
    "        Expected Output:\n",
    "            True\n",
    "            False '''\n",
    "a = [2,4,3,5,7]\n",
    "sublist1 = [4,3]\n",
    "sublist2 = [3,7]   \n",
    "\n",
    "found_sublist1 = False\n",
    "for i in range(len(a) - len(sublist1)+1):\n",
    "    if a[i:i + len(sublist1)] == sublist1:\n",
    "        found_sublist1 = True\n",
    "        break\n",
    "\n",
    "found_sublist2 = False\n",
    "for i in range(len(a) - len(sublist2)+1):\n",
    "    if a[i:i + len(sublist2)] == sublist2:\n",
    "        found_sublist2 = True\n",
    "        break\n",
    "\n",
    "print(found_sublist1)\n",
    "print(found_sublist2)"
   ]
  },
  {
   "cell_type": "code",
   "execution_count": 87,
   "metadata": {},
   "outputs": [
    {
     "name": "stdout",
     "output_type": "stream",
     "text": [
      "[[], [10], [20], [10, 20], [30], [10, 30], [20, 30], [10, 20, 30], [40], [10, 40], [20, 40], [10, 20, 40], [30, 40], [10, 30, 40], [20, 30, 40], [10, 20, 30, 40]]\n",
      "[[], ['X'], ['Y'], ['X', 'Y'], ['Z'], ['X', 'Z'], ['Y', 'Z'], ['X', 'Y', 'Z']]\n"
     ]
    }
   ],
   "source": [
    "''' 10. Write a Python program to generate all sublists of a list.\n",
    "        Data:\n",
    "            l1 = [10, 20, 30, 40]\n",
    "            l2 = ['X', 'Y', 'Z']\n",
    "        Expected Output:\n",
    "            [[], [1], [2], [1, 2], [3], [1, 3], [2, 3], [1, 2, 3]]\n",
    "            [[], ['X'], ['Y'], ['X', 'Y'], ['Z'], ['X', 'Z'], ['Y', 'Z'], ['X', 'Y', 'Z']] '''\n",
    "        \n",
    "l1 = [10, 20, 30, 40]\n",
    "l2 = ['X', 'Y', 'Z']\n",
    "\n",
    "sublists_l1 = [[]]\n",
    "for i in range(len(l1)):\n",
    "    new_subs = []\n",
    "    for sub in sublists_l1:\n",
    "        new_subs.append(sub + [l1[i]])\n",
    "    sublists_l1.extend(new_subs)\n",
    "\n",
    "sublists_l2 = [[]]\n",
    "for i in range(len(l2)):\n",
    "    new_subs = []\n",
    "    for sub in sublists_l2:\n",
    "        new_subs.append(sub + [l2[i]])\n",
    "    sublists_l2.extend(new_subs)\n",
    "\n",
    "print(sublists_l1)\n",
    "print(sublists_l2)"
   ]
  },
  {
   "cell_type": "code",
   "execution_count": 91,
   "metadata": {},
   "outputs": [
    {
     "name": "stdout",
     "output_type": "stream",
     "text": [
      "2\n",
      "3\n",
      "5\n",
      "7\n"
     ]
    }
   ],
   "source": [
    "''' 11. Write a Python program to print all the prime numbers upto a specified number using Sieve of Eratosthenes method.\n",
    "        Data:\n",
    "            nums(10)\n",
    "        Expected Output:\n",
    "            2\n",
    "            3\n",
    "            5\n",
    "            7\n",
    "            None '''\n",
    "\n",
    "def sieve_of_eratosthenes(n):\n",
    "    prime = [True] * (n + 1)\n",
    "    prime[0], prime[1] = False, False  # 0 and 1 are not primes\n",
    "    p = 2\n",
    "    while p * p <= n:\n",
    "        if prime[p]:\n",
    "            # Update all multiples of p to False\n",
    "            for i in range(p * p, n + 1, p):\n",
    "                prime[i] = False\n",
    "        p += 1\n",
    "\n",
    "    for i in range(2, n + 1):\n",
    "        if prime[i]:\n",
    "            print(i)\n",
    "\n",
    "\n",
    "nums = 10\n",
    "sieve_of_eratosthenes(nums)\n",
    "     "
   ]
  },
  {
   "cell_type": "code",
   "execution_count": 93,
   "metadata": {},
   "outputs": [
    {
     "name": "stdout",
     "output_type": "stream",
     "text": [
      "['l1', 'm1', 'l2', 'm2', 'l3', 'm3', 'l4', 'm4']\n"
     ]
    }
   ],
   "source": [
    "''' 12. Write a Python program to create a list by concatenating a given list which ranges from 1 to n.\n",
    "        Data:\n",
    "            list:['l', 'm']\n",
    "            n = 4\n",
    "        Expected Output:\n",
    "            ['l1', 'm1', 'l2', 'm2', 'l3', 'm3', 'l4', 'm4'] '''\n",
    "initial_list = ['l', 'm']\n",
    "n = 4\n",
    "result = []\n",
    "\n",
    "for i in range(1, n + 1):\n",
    "    for item in initial_list:\n",
    "        result.append(item + str(i))\n",
    "\n",
    "print(result)\n",
    "        "
   ]
  },
  {
   "cell_type": "code",
   "execution_count": 95,
   "metadata": {},
   "outputs": [
    {
     "name": "stdout",
     "output_type": "stream",
     "text": [
      "[1, 0, 3, 2, 5, 4, 7, 6]\n"
     ]
    }
   ],
   "source": [
    "''' 13. Write a Python program to change the position of every n-th value with the (n+1)th in a list.\n",
    "        Data:\n",
    "            list:[0, 1, 2, 3, 4, 5, 6, 7]\n",
    "        Expected Output:\n",
    "            [1, 0, 3, 2, 5, 4, 7, 6] '''\n",
    "lst = [0, 1, 2, 3, 4, 5, 6, 7]\n",
    "\n",
    "for i in range(0, len(lst) - 1, 2):\n",
    "    lst[i], lst[i + 1] = lst[i + 1], lst[i]\n",
    "\n",
    "print(lst)        \n",
    "        \n",
    "        \n",
    "        "
   ]
  },
  {
   "cell_type": "code",
   "execution_count": 97,
   "metadata": {},
   "outputs": [
    {
     "name": "stdout",
     "output_type": "stream",
     "text": [
      "Sorted Unique Data: [1, 2, 3, 4, 5, 6, 7, 8, 9, 10]\n"
     ]
    }
   ],
   "source": [
    "''' 14. Write a Python program to convert a pair of values into a sorted unique array.\n",
    "        Data:\n",
    "            List:  [(1, 2), (3, 4), (5, 6), (7, 8), (1, 2), (3, 4), (7, 8), (7, 8), (9, 10)]   \n",
    "        Expected Output:\n",
    "            Sorted Unique Data: [1, 2, 3, 4, 5, 6, 7, 8, 9, 10] '''\n",
    "pairs = [(1, 2), (3, 4), (5, 6), (7, 8), (1, 2), (3, 4), (7, 8), (7, 8), (9, 10)]\n",
    "\n",
    "values = []\n",
    "for pair in pairs:\n",
    "    values.extend(pair) \n",
    "\n",
    "\n",
    "unique_values = set(values)\n",
    "\n",
    "\n",
    "sorted_unique = sorted(unique_values)\n",
    "\n",
    "print(\"Sorted Unique Data:\", sorted_unique)\n",
    "            "
   ]
  },
  {
   "cell_type": "code",
   "execution_count": 99,
   "metadata": {},
   "outputs": [
    {
     "name": "stdout",
     "output_type": "stream",
     "text": [
      "Sorted List: [{'Book': {'Novel': 'Alchemist'}}, {'Book': {'Novel': 'Hamlet'}}, {'Book': {'Novel': 'Sherlock Homes'}}]\n"
     ]
    }
   ],
   "source": [
    "''' 15. Write a Python program to sort a list of nested dictionaries.\n",
    "        Data:\n",
    "            Original List: \n",
    "                x = [{'Book': {'Novel': 'Hamlet'}}, {'Book': {'Novel': 'Sherlock Homes'}}, {'Book': {'Novel': 'Alchemist'}}]\n",
    "        Expected Output:\n",
    "            Sorted List: \n",
    "                [{'Book': {'Novel': 'Alchemist'}}, {'Book': {'Novel': 'Hamlet'}}, {'Book': {'Novel': 'Sherlock Homes'}}] '''\n",
    "        \n",
    "x = [\n",
    "    {'Book': {'Novel': 'Hamlet'}},\n",
    "    {'Book': {'Novel': 'Sherlock Homes'}},\n",
    "    {'Book': {'Novel': 'Alchemist'}}\n",
    "]\n",
    "\n",
    "sorted_list = sorted(x, key=lambda d: d['Book']['Novel'])\n",
    "\n",
    "print(\"Sorted List:\", sorted_list)       "
   ]
  },
  {
   "cell_type": "code",
   "execution_count": 101,
   "metadata": {},
   "outputs": [
    {
     "name": "stdout",
     "output_type": "stream",
     "text": [
      "Unique List: [[10, 30], [40], [33], [10, 20], [30, 56, 23]]\n"
     ]
    }
   ],
   "source": [
    "''' 16. Write a Python program to remove duplicates from a list of lists.\n",
    "        Data:\n",
    "            Original List [[10, 30], [40], [30, 56, 23], [10, 20], [33], [40]]\n",
    "        Expected Output:\n",
    "            Unique List [[10, 20], [10, 30], [30, 56, 23], [33], [40]] '''\n",
    "original_list = [[10, 30], [40], [30, 56, 23], [10, 20], [33], [40]]\n",
    "unique_tuples = set(tuple(lst) for lst in original_list)\n",
    "unique_list = [list(t) for t in unique_tuples]\n",
    "print(\"Unique List:\", unique_list)\n",
    "        "
   ]
  },
  {
   "cell_type": "code",
   "execution_count": 103,
   "metadata": {},
   "outputs": [
    {
     "name": "stdout",
     "output_type": "stream",
     "text": [
      "True\n",
      "False\n"
     ]
    }
   ],
   "source": [
    "''' 17. Write a Python program to check whether all dictionaries in a list are empty or not.\n",
    "        Data:\n",
    "            x = [{},{},{}]\n",
    "            y = [{1,2},{},{}]\n",
    "        Expected Output:\n",
    "            True\n",
    "            False '''        \n",
    "        \n",
    "x = [{}, {}, {}]\n",
    "y = [{1, 2}, {}, {}]\n",
    "\n",
    "def all_dicts_empty(lst):\n",
    "    return all(len(d) == 0 for d in lst)\n",
    "\n",
    "\n",
    "print(all_dicts_empty(x))\n",
    "print(all_dicts_empty(y))"
   ]
  },
  {
   "cell_type": "code",
   "execution_count": 107,
   "metadata": {},
   "outputs": [
    {
     "name": "stdout",
     "output_type": "stream",
     "text": [
      "Flat list: [0, 20, 30, 30, 40, 50, 60, 40, 80, 90, 100, 10, 119]\n"
     ]
    }
   ],
   "source": [
    "''' 18. Write a Python program to convert a nested list into a flat list.\n",
    "        Data:\n",
    "            lt = [0, 20, [30, 30], 40, 50, [60, 40, 80], [90, 100, 10, 119]]\n",
    "        Expected Output:\n",
    "            Flat list:[0, 20, 30, 30, 40, 50, 60, 40, 80, 90, 100, 10, 119] '''\n",
    "lt = [0, 20, [30, 30], 40, 50, [60, 40, 80], [90, 100, 10, 119]]\n",
    "\n",
    "def flatten_list(nested_list):\n",
    "    flat_list = []\n",
    "    for item in nested_list:\n",
    "        if isinstance(item, list):\n",
    "            flat_list.extend(flatten_list(item))\n",
    "        else:\n",
    "            flat_list.append(item)\n",
    "    return flat_list\n",
    "\n",
    "\n",
    "flat_list = flatten_list(lt)\n",
    "\n",
    "print(\"Flat list:\", flat_list)            \n",
    "    "
   ]
  },
  {
   "cell_type": "code",
   "execution_count": 111,
   "metadata": {},
   "outputs": [
    {
     "name": "stdout",
     "output_type": "stream",
     "text": [
      "After removing consecutive duplicates: [0, 1, 2, 3, 5, 4, 5, 6, 7, 8, 4]\n"
     ]
    }
   ],
   "source": [
    "''' 19. Write a Python program to remove only the consecutive duplicates from given list.\n",
    "        Data:\n",
    "            lt = [0, 1, 1, 2, 3, 5, 4, 5, 6, 6, 7, 7, 8, 4, 4, 4]\n",
    "        Expected Output:\n",
    "            After removing consecutive duplicates:\n",
    "                [0, 1, 2, 3, 5, 4, 5, 6, 7, 8, 4] '''\n",
    "lt = [0, 1, 1, 2, 3, 5, 4, 5, 6, 6, 7, 7, 8, 4, 4, 4]\n",
    "\n",
    "\n",
    "def remove_consecutive_duplicates(lst):\n",
    "    if not lst:\n",
    "        return []\n",
    "    \n",
    "    result = [lst[0]]  \n",
    "    for i in range(1, len(lst)):\n",
    "        if lst[i] != lst[i - 1]:\n",
    "            result.append(lst[i])\n",
    "    return result\n",
    "\n",
    "\n",
    "filtered_list = remove_consecutive_duplicates(lt)\n",
    "\n",
    "print(\"After removing consecutive duplicates:\", filtered_list)        \n",
    "    "
   ]
  },
  {
   "cell_type": "code",
   "execution_count": 113,
   "metadata": {},
   "outputs": [
    {
     "name": "stdout",
     "output_type": "stream",
     "text": [
      "After packing consecutive duplicates into sublists:\n",
      "[[1], [0], [1], [2], [3], [4, 4], [5, 5], [6, 6], [7], [8], [9], [4, 4]]\n"
     ]
    }
   ],
   "source": [
    "''' 20. Write a Python program to pack consecutive duplicates of a given list into sublists.\n",
    "        Data:\n",
    "            Original list:\n",
    "            [1, 0, 1, 2, 3, 4, 4, 5, 5, 6, 6, 7, 8, 9, 4, 4]\n",
    "        Expected Output:\n",
    "            After packing consecutive duplicates of the said list elements into sublists:\n",
    "                [[1], [0], [1], [2], [3], [4, 4], [5, 5], [6, 6], [7], [8], [9], [4, 4]] '''\n",
    "        \n",
    "lst = [1, 0, 1, 2, 3, 4, 4, 5, 5, 6, 6, 7, 8, 9, 4, 4]\n",
    "\n",
    "def pack_consecutive_duplicates(input_list):\n",
    "    if not input_list:\n",
    "        return []\n",
    "\n",
    "    packed_list = []\n",
    "    current_sublist = [input_list[0]]\n",
    "\n",
    "    for i in range(1, len(input_list)):\n",
    "        if input_list[i] == input_list[i - 1]:\n",
    "            # Continue packing the current sublist\n",
    "            current_sublist.append(input_list[i])\n",
    "        else:\n",
    "            # Append the completed sublist and start a new one\n",
    "            packed_list.append(current_sublist)\n",
    "            current_sublist = [input_list[i]]\n",
    "    # Append the last sublist\n",
    "    packed_list.append(current_sublist)\n",
    "    return packed_list\n",
    "\n",
    "result = pack_consecutive_duplicates(lst)\n",
    "\n",
    "print(\"After packing consecutive duplicates into sublists:\")\n",
    "print(result)\n",
    "        \n",
    "        "
   ]
  },
  {
   "cell_type": "code",
   "execution_count": null,
   "metadata": {},
   "outputs": [],
   "source": []
  }
 ],
 "metadata": {
  "kernelspec": {
   "display_name": "Python 3 (ipykernel)",
   "language": "python",
   "name": "python3"
  },
  "language_info": {
   "codemirror_mode": {
    "name": "ipython",
    "version": 3
   },
   "file_extension": ".py",
   "mimetype": "text/x-python",
   "name": "python",
   "nbconvert_exporter": "python",
   "pygments_lexer": "ipython3",
   "version": "3.12.7"
  }
 },
 "nbformat": 4,
 "nbformat_minor": 4
}
