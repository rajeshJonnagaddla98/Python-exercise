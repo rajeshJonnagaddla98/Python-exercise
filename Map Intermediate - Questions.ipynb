{
 "cells": [
  {
   "cell_type": "markdown",
   "metadata": {},
   "source": [
    "# Map Intermediate Questions"
   ]
  },
  {
   "cell_type": "code",
   "execution_count": 7,
   "metadata": {},
   "outputs": [
    {
     "name": "stdout",
     "output_type": "stream",
     "text": [
      "[3, 6, 9, 12, 15, 18, 21]\n"
     ]
    }
   ],
   "source": [
    "'''1. Write a Python program to triple all the numbers of a given list of integers using map().\n",
    "    Data:\n",
    "        Original list:  (1, 2, 3, 4, 5, 6, 7)\n",
    "    Expected Output:\n",
    "        Triple of said list numbers:\n",
    "        <map object at 0x0000014EA83550D0>\n",
    "        [3, 6, 9, 12, 15, 18, 21]'''\n",
    "\n",
    "def fun1(n):\n",
    "    return 3*n\n",
    "\n",
    "list1 = (1, 2, 3, 4, 5, 6, 7) \n",
    "\n",
    "y = list(map(fun1,list1))\n",
    "\n",
    "print(y)\n",
    "            \n",
    "            \n",
    "            "
   ]
  },
  {
   "cell_type": "code",
   "execution_count": 9,
   "metadata": {},
   "outputs": [
    {
     "name": "stdout",
     "output_type": "stream",
     "text": [
      "[12, 15, 18]\n"
     ]
    }
   ],
   "source": [
    "'''2. Write a Python program to add three given lists using map and lambda functions.\n",
    "    Data:\n",
    "        x = [1, 2, 3] \n",
    "        y = [4, 5, 6] \n",
    "        z = [7, 8, 9]\n",
    "    Expected Output:\n",
    "        New list after adding above three lists:\n",
    "        <map object at 0x0000014EA8396580>\n",
    "        [12, 15, 18]'''\n",
    "\n",
    "def fun2(a,b,c):\n",
    "    d = a+b+c\n",
    "    return d\n",
    "    \n",
    "x = [1, 2, 3] \n",
    "y = [4, 5, 6] \n",
    "z = [7, 8, 9]            \n",
    "\n",
    "y1 = list(map(fun2, x,y,z))\n",
    "\n",
    "print(y1)\n",
    "            \n",
    "            "
   ]
  },
  {
   "cell_type": "code",
   "execution_count": 21,
   "metadata": {},
   "outputs": [
    {
     "name": "stdout",
     "output_type": "stream",
     "text": [
      "Original list: ['Boss', 'Suresh', 'Siva', 'Balu', 'Dinesh']\n",
      "\n",
      "Listing of strings individually : \n",
      "<map object at 0x000001F8C5E1F280>\n",
      "[['B', 'o', 's', 's'], ['S', 'u', 'r', 'e', 's', 'h'], ['S', 'i', 'v', 'a'], ['B', 'a', 'l', 'u'], ['D', 'i', 'n', 'e', 's', 'h']]\n"
     ]
    }
   ],
   "source": [
    "'''3. Write a Python program to print the given strings individually from the list using map().\n",
    "    Data:\n",
    "        Original list: ['Boss', 'Suresh', 'Siva', 'Balu', 'Dinesh']\n",
    "    Expected Output:\n",
    "        Original list: \n",
    "            ['Boss', 'Suresh', 'Siva', 'Balu', 'Dinesh']\n",
    "        Listing of strings individually : \n",
    "            <map object at 0x000002175B15CD60>\n",
    "            [['B', 'o', 's', 's'], ['S', 'u', 'r', 'e', 's', 'h'], ['S', 'i', 'v', 'a'], \n",
    "             ['B', 'a', 'l', 'u'], ['D', 'i', 'n', 'e', 's', 'h']]'''\n",
    "        \n",
    "name1 = ['Boss', 'Suresh', 'Siva', 'Balu', 'Dinesh'] \n",
    "print(\"Original list:\", name1)\n",
    "\n",
    "print(\"\\nListing of strings individually : \") \n",
    "\n",
    "y = map(list,name1)\n",
    "print(y)\n",
    "print(list(y))        \n",
    "        "
   ]
  },
  {
   "cell_type": "code",
   "execution_count": 27,
   "metadata": {},
   "outputs": [
    {
     "name": "stdout",
     "output_type": "stream",
     "text": [
      "Base numbers abd index: \n",
      "Power of said number in bases raised to the corresponding number in the index:\n",
      "<map object at 0x000001F8C67C6950>\n",
      "[10, 400, 27000, 2560000, 312500000, 46656000000, 8235430000000, 1677721600000000, 387420489000000000, 100000000000000000000]\n"
     ]
    }
   ],
   "source": [
    "'''4. Write a Python program to create a list, containing the power of numbers in the given list [num] and \n",
    "            bases raised to the corresponding number from the list [index] using map().\n",
    "    Data:\n",
    "        num = [10, 20, 30, 40, 50, 60, 70, 80, 90, 100]\n",
    "        index = [1, 2, 3, 4, 5, 6, 7, 8, 9, 10]\n",
    "    Expected Output:\n",
    "        Power of said number in bases raised to the corresponding number in the index:\n",
    "        <map object at 0x0000014EA833C9A0>\n",
    "        [10, 400, 27000, 2560000, 312500000, 46656000000, 8235430000000, 1677721600000000, 387420489000000000, \n",
    "         100000000000000000000]'''\n",
    "num = [10, 20, 30, 40, 50, 60, 70, 80, 90, 100]\n",
    "index = [1, 2, 3, 4, 5, 6, 7, 8, 9, 10]\n",
    "y = (map(pow, num, index))\n",
    "print(\"Power of said number in bases raised to the corresponding number in the index:\")\n",
    "print(y)\n",
    "print(list(y))\n",
    "        \n",
    "        \n",
    "        \n",
    "        "
   ]
  },
  {
   "cell_type": "code",
   "execution_count": 31,
   "metadata": {},
   "outputs": [
    {
     "name": "stdout",
     "output_type": "stream",
     "text": [
      "Square the elements of the said list using map():\n",
      "[16, 25, 36, 49]\n"
     ]
    }
   ],
   "source": [
    "'''5. Write a Python program to square the elements of a list using map() function.\n",
    "    Data:\n",
    "        Original List:  [4, 5, 6, 7]\n",
    "    Expected Output:\n",
    "        Square the elements of the said list using map():\n",
    "        [16, 25, 36, 49]'''\n",
    "\n",
    "def fun10(n):\n",
    "    return n * n\n",
    "x = [4, 5, 6, 7]\n",
    "\n",
    "y = map(fun10,x)\n",
    "print(\"Square the elements of the said list using map():\")\n",
    "print(list(y))\n",
    "        \n",
    "        "
   ]
  },
  {
   "cell_type": "code",
   "execution_count": 37,
   "metadata": {},
   "outputs": [
    {
     "name": "stdout",
     "output_type": "stream",
     "text": [
      "After converting above characters in upper and lower casesand eliminating duplicate letters:\n",
      "{('E', 'e'), ('O', 'o'), ('U', 'u'), ('C', 'c'), ('B', 'b'), ('F', 'f'), ('A', 'a'), ('I', 'i')}\n"
     ]
    }
   ],
   "source": [
    "'''6. Write a Python program to convert all the characters in uppercase and lowercase and \n",
    "            eliminate duplicate letters from a given sequence. Use map() function.\n",
    "    Data:\n",
    "        Original Characters: {'U', 'f', 'c', 'i', 'E', 'a', 'b', 'o'}\n",
    "    Expected Output:\n",
    "        After converting above characters in upper and lower casesand eliminating duplicate letters:\n",
    "        {('C', 'c'), ('I', 'i'), ('A', 'a'), ('F', 'f'), ('B', 'b'), ('O', 'o'), ('E', 'e'), ('U', 'u')}'''\n",
    "\n",
    "def fun9(s):\n",
    "    return str(s).upper(), str(s).lower()\n",
    "\n",
    "a = {'U', 'f', 'c', 'i', 'E', 'a', 'b', 'o'}\n",
    "\n",
    "y = set(map(fun9, a))\n",
    "print(\"After converting above characters in upper and lower casesand eliminating duplicate letters:\")\n",
    "print(y)\n",
    "        \n",
    "        "
   ]
  },
  {
   "cell_type": "code",
   "execution_count": 39,
   "metadata": {},
   "outputs": [
    {
     "name": "stdout",
     "output_type": "stream",
     "text": [
      "[(4, 4), (6, 4), (8, 4), (10, 4)]\n"
     ]
    }
   ],
   "source": [
    "'''7. Write a Python program to add two given lists and find the difference between lists.\n",
    "        Print the results in another list using map() function.\n",
    "    Data:\n",
    "        nums1 = [4, 5, 6, 7]\n",
    "        nums2 = [0, 1, 2, 3]\n",
    "    Expected Output:\n",
    "        [(4, 4), (6, 4), (8, 4), (10, 4)]'''\n",
    "\n",
    "def diff(x,y):\n",
    "    return x+y, x-y\n",
    "\n",
    "nums1 = [4, 5, 6, 7]\n",
    "nums2 = [0, 1, 2, 3]\n",
    "\n",
    "y = list(map(diff,nums1,nums2))\n",
    "print(y)\n",
    "        \n",
    "        \n",
    "        \n",
    "        "
   ]
  },
  {
   "cell_type": "code",
   "execution_count": 47,
   "metadata": {},
   "outputs": [
    {
     "name": "stdout",
     "output_type": "stream",
     "text": [
      "['1', '2', '3', '4']\n",
      "['0', '1', '2', '3']\n"
     ]
    }
   ],
   "source": [
    "'''8. Write a Python program to convert a given list of integers and a given tuple of integers into lists of strings.\n",
    "    Data:\n",
    "        lists = [1,2,3,4]\n",
    "        tuples = (0, 1, 2, 3) \n",
    "    Expected Output:\n",
    "        List of strings: ['1', '2', '3', '4']\n",
    "        Tuple of strings: ('0', '1', '2', '3')'''\n",
    "            \n",
    "def func(s):\n",
    "    return str(s)\n",
    "lists = [1,2,3,4]\n",
    "tuples = (0, 1, 2, 3)  \n",
    "\n",
    "y = list(map(func,lists))\n",
    "print(y)\n",
    "\n",
    "y1 = list(map(func,tuples))\n",
    "print(y1)\n",
    "            "
   ]
  },
  {
   "cell_type": "code",
   "execution_count": 49,
   "metadata": {},
   "outputs": [
    {
     "name": "stdout",
     "output_type": "stream",
     "text": [
      "[35, 37, 39, 35]\n"
     ]
    }
   ],
   "source": [
    "'''9. Write a Python program to create a new list by taking the weights of each student from a given tuple and \n",
    "            convert the string value into an integer using map().\n",
    "    Data:\n",
    "        student = [('Baskar','15/05/2002','35kg'), ('Suresh','17/05/2002','37kg'), ('Siva','16/02/1999', '39kg'), \n",
    "                 ('Dinesh','25/09/1998', '35kg')]\n",
    "    Expected Output:\n",
    "        Student weight: [35, 37, 39, 35]'''\n",
    "\n",
    "\n",
    "student = [('Baskar','15/05/2002','35kg'), ('Suresh','17/05/2002','37kg'), ('Siva','16/02/1999', '39kg'), ('Dinesh','25/09/1998', '35kg')]\n",
    "\n",
    "y = list(map(lambda x:int(x[2][:-2]), student))\n",
    "print(y)\n",
    "            \n",
    "            \n",
    "            "
   ]
  },
  {
   "cell_type": "code",
   "execution_count": 55,
   "metadata": {},
   "outputs": [
    {
     "name": "stdout",
     "output_type": "stream",
     "text": [
      "First 10 Fibonacci numbers:\n",
      "[0, 1, 1, 2, 3, 5, 8, 13, 21, 34]\n",
      "\n",
      "After squaring said numbers of the list:\n",
      "[0, 1, 1, 4, 9, 25, 64, 169, 441, 1156]\n"
     ]
    }
   ],
   "source": [
    "'''10. Write a Python program to print the first 10 fibonacci series and map() the squares of each numbers in a series into a list.\n",
    "    Expected Output:\n",
    "        First 10 Fibonacci numbers: [0, 1, 1, 2, 3, 5, 8, 13, 21, 34]\n",
    "        After squaring said numbers of the list: [0, 1, 1, 4, 9, 25, 64, 169, 441, 1156]'''\n",
    "\n",
    "\n",
    "import itertools\n",
    "n = 10\n",
    "def fun(x=0, y=1):\n",
    "    yield x\n",
    "    while True:\n",
    "        yield y\n",
    "        x, y = y, x + y\n",
    "print(\"First 10 Fibonacci numbers:\")\n",
    "result = list(itertools.islice(fun(), n))\n",
    "print(result)\n",
    "square = lambda x: x * x \n",
    "print(\"\\nAfter squaring said numbers of the list:\")\n",
    "print(list(map(square, result)))"
   ]
  },
  {
   "cell_type": "code",
   "execution_count": null,
   "metadata": {},
   "outputs": [],
   "source": []
  }
 ],
 "metadata": {
  "kernelspec": {
   "display_name": "Python 3 (ipykernel)",
   "language": "python",
   "name": "python3"
  },
  "language_info": {
   "codemirror_mode": {
    "name": "ipython",
    "version": 3
   },
   "file_extension": ".py",
   "mimetype": "text/x-python",
   "name": "python",
   "nbconvert_exporter": "python",
   "pygments_lexer": "ipython3",
   "version": "3.12.7"
  }
 },
 "nbformat": 4,
 "nbformat_minor": 4
}
