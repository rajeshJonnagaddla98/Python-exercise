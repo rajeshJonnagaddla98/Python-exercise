{
 "cells": [
  {
   "cell_type": "markdown",
   "metadata": {},
   "source": [
    "# Map Simple Questions"
   ]
  },
  {
   "cell_type": "code",
   "execution_count": 3,
   "metadata": {},
   "outputs": [
    {
     "name": "stdout",
     "output_type": "stream",
     "text": [
      "[1, 4, 9, 16, 25, 36, 49, 64, 81]\n"
     ]
    }
   ],
   "source": [
    "'''1. Write a python program to map the squares of the numbers present in a list.\n",
    "    Data:\n",
    "        m = [1,2,3,4,5,6,7,8,9]\n",
    "    Expected Output:\n",
    "        <map object at 0x00000232B9256790>\n",
    "        [1, 4, 9, 16, 25, 36, 49, 64, 81]'''\n",
    "\n",
    "m = [1,2,3,4,5,6,7,8,9]\n",
    "\n",
    "y = list(map(lambda m : m**2 , m))\n",
    "\n",
    "print(y)\n",
    "        \n",
    "        "
   ]
  },
  {
   "cell_type": "code",
   "execution_count": 9,
   "metadata": {},
   "outputs": [
    {
     "name": "stdout",
     "output_type": "stream",
     "text": [
      "[3, 4, 4, 6, 6, 8, 8, 10]\n"
     ]
    }
   ],
   "source": [
    "'''2. Write a python program to round off the values in a given list using map().\n",
    "    Data:\n",
    "        m = [2.6743,3.63526,4.2325,5.9687967,6.3265,7.6988,8.232,9.6907]\n",
    "    Expected Output:\n",
    "        <map object at 0x00000232B9256E50>\n",
    "        [3, 4, 4, 6, 6, 8, 8, 10]'''\n",
    "\n",
    "m = [2.6743,3.63526,4.2325,5.9687967,6.3265,7.6988,8.232,9.6907]\n",
    "\n",
    "y = list(map(round,m))\n",
    "\n",
    "print(y)\n",
    "        \n",
    "        \n",
    "        \n",
    "        "
   ]
  },
  {
   "cell_type": "code",
   "execution_count": 17,
   "metadata": {},
   "outputs": [
    {
     "name": "stdout",
     "output_type": "stream",
     "text": [
      "welcome to Aidinasaur!"
     ]
    }
   ],
   "source": [
    "'''3. Write a python program to print the given string by iterating it using for loop and map().\n",
    "    Data:\n",
    "        m = \"welcome to Aidinasaur!\"\n",
    "    Expected Output:\n",
    "        <map object at 0x00000232B92568B0>\n",
    "        welcome to Aidinasaur!'''\n",
    "\n",
    "def fun(s):\n",
    "    return s    \n",
    "m = \"welcome to Aidinasaur!\"        \n",
    "\n",
    "y = list(map(fun, m))\n",
    "\n",
    "\n",
    "for i in y:\n",
    "    print(i, end=\"\")\n"
   ]
  },
  {
   "cell_type": "code",
   "execution_count": 31,
   "metadata": {},
   "outputs": [
    {
     "name": "stdout",
     "output_type": "stream",
     "text": [
      "[2, 3, 4, 5, 6, 7, 8, 9]\n"
     ]
    }
   ],
   "source": [
    "'''4. Write a python program to print the given list of numbers using map().\n",
    "    Data:\n",
    "        [2,3,4,5,6,7,8,9]\n",
    "    Expected Output:\n",
    "        <map object at 0x00000232B9256970>\n",
    "        [2, 3, 4, 5, 6, 7, 8, 9]'''\n",
    "\n",
    "def fun1(n):\n",
    "    return n\n",
    "m = [2,3,4,5,6,7,8,9]\n",
    "\n",
    "y = list(map(fun1,m))\n",
    "\n",
    "print(y)\n",
    "        \n",
    "        \n",
    "        "
   ]
  },
  {
   "cell_type": "code",
   "execution_count": 33,
   "metadata": {},
   "outputs": [
    {
     "name": "stdout",
     "output_type": "stream",
     "text": [
      "('php', 'java', 'python', 'c++', 'c')\n"
     ]
    }
   ],
   "source": [
    "'''5. Write a python program to print the given tuple of strings using map().\n",
    "    Data:\n",
    "        tuples = ('php','java','python','c++','c')\n",
    "    Expected Output:\n",
    "        <map object at 0x00000232B9292850>\n",
    "        ('php', 'java', 'python', 'c++', 'c')'''\n",
    "\n",
    "def fun1(n):\n",
    "    return n\n",
    "tuples = ('php','java','python','c++','c')      \n",
    "\n",
    "y = tuple(map(fun1,tuples))\n",
    "\n",
    "print(y)\n",
    "        \n",
    "        "
   ]
  },
  {
   "cell_type": "code",
   "execution_count": 37,
   "metadata": {},
   "outputs": [
    {
     "name": "stdout",
     "output_type": "stream",
     "text": [
      "[1, 2, 3, 4, 5, 6, 7, 8, 9]\n"
     ]
    }
   ],
   "source": [
    "'''6. Write a python program to print given dictionary of elements using map().\n",
    "    Data:\n",
    "        m = {1,2,3,4,5,6,7,8,9}\n",
    "    Expected Output:\n",
    "        <map object at 0x00000232B9292DC0>\n",
    "        [1,2, 3, 4, 5, 6, 7, 8, 9]'''\n",
    "def fun1(n):\n",
    "    return n\n",
    "        \n",
    "m = {1,2,3,4,5,6,7,8,9}\n",
    "\n",
    "y = list(map(fun1,m))\n",
    "\n",
    "print(y)\n",
    "        "
   ]
  },
  {
   "cell_type": "code",
   "execution_count": 45,
   "metadata": {},
   "outputs": [
    {
     "name": "stdout",
     "output_type": "stream",
     "text": [
      "<map object at 0x0000022AB92C38B0>\n",
      "[1, 2, 3, 4, 5, 6, 7, 8, 9]\n"
     ]
    }
   ],
   "source": [
    "'''7. Write a python program to print the elements of a list using lambda function and map().\n",
    "    Data:\n",
    "        m= [1,2,3,4,5,6,7,8,9]\n",
    "    Expected Output:\n",
    "        <map object at 0x00000232B9292280>\n",
    "        [1, 2, 3, 4, 5, 6, 7, 8, 9]'''\n",
    "        \n",
    "m= [1,2,3,4,5,6,7,8,9]\n",
    "\n",
    "y = map(lambda m : m, m)\n",
    "print(y)\n",
    "\n",
    "z = list(y)\n",
    "\n",
    "print(z)\n",
    "        \n",
    "        "
   ]
  },
  {
   "cell_type": "code",
   "execution_count": 51,
   "metadata": {},
   "outputs": [
    {
     "name": "stdout",
     "output_type": "stream",
     "text": [
      "[6, 11, 16, 21, 26, 31, 36]\n"
     ]
    }
   ],
   "source": [
    "'''8. Write a python program to add each elements of m1 with each corresponding elements in m2 using map().\n",
    "    Data:\n",
    "        m1 = [2,3,4,5,6,7,8,9]\n",
    "        m2 = [4,8,12,16,20,24,28]\n",
    "    Expected Output:\n",
    "        <map object at 0x00000232B9256970>\n",
    "        [6, 11, 16, 21, 26, 31, 36]'''\n",
    "\n",
    "def func2(m1, m2):\n",
    "    return m1+m2\n",
    "        \n",
    "m1 = [2,3,4,5,6,7,8,9]\n",
    "m2 = [4,8,12,16,20,24,28]      \n",
    "\n",
    "y = list(map( func2, m1,m2))\n",
    "print(y)\n",
    "        \n",
    "        "
   ]
  },
  {
   "cell_type": "code",
   "execution_count": 53,
   "metadata": {},
   "outputs": [
    {
     "name": "stdout",
     "output_type": "stream",
     "text": [
      "['a:PHP', 'b:Java', 'c:Python', 'd:C++', 'e:C']\n"
     ]
    }
   ],
   "source": [
    "'''9. Write a python program to create a dictionary with keys from list and values from tuple from the given data using map().\n",
    "    Data:\n",
    "        lists = ['a','b', 'c', 'd', 'e']\n",
    "        tuples = ('PHP','Java','Python','C++','C')\n",
    "    Expected Output:\n",
    "        <map object at 0x00000232B92928B0>\n",
    "        ['a:PHP', 'b:Java', 'c:Python', 'd:C++', 'e:C'''\n",
    "\n",
    "lists = ['a','b', 'c', 'd', 'e']\n",
    "tuples = ('PHP','Java','Python','C++','C')\n",
    "\n",
    "def fun3(lists,tuples):\n",
    "    return lists+\":\"+tuples\n",
    "\n",
    "\n",
    "y = list(map(fun3, lists,tuples))\n",
    "\n",
    "print(y)\n",
    "\n",
    "         \n",
    "         \n",
    "         "
   ]
  },
  {
   "cell_type": "code",
   "execution_count": 57,
   "metadata": {},
   "outputs": [
    {
     "name": "stdout",
     "output_type": "stream",
     "text": [
      "[10, 20, 30, 40, 50, 60, 70, 80, 90]\n"
     ]
    }
   ],
   "source": [
    "'''10. Write a python program to multiply each elements in a set with 10 and print the result in a list using map(). \n",
    "    Data:\n",
    "        sets = {1,2,3,4,5,6,7,8,9}\n",
    "    Expected Output:\n",
    "        <map object at 0x00000232B9292580>\n",
    "        [10, 20, 30, 40, 50, 60, 70, 80, 90]'''\n",
    "\n",
    "def fun3(x):\n",
    "    return x*10\n",
    "    \n",
    "sets = {1,2,3,4,5,6,7,8,9}\n",
    "y = list(map(fun3, sets))\n",
    "\n",
    "print(y)\n",
    "        "
   ]
  },
  {
   "cell_type": "code",
   "execution_count": null,
   "metadata": {},
   "outputs": [],
   "source": []
  }
 ],
 "metadata": {
  "kernelspec": {
   "display_name": "Python 3 (ipykernel)",
   "language": "python",
   "name": "python3"
  },
  "language_info": {
   "codemirror_mode": {
    "name": "ipython",
    "version": 3
   },
   "file_extension": ".py",
   "mimetype": "text/x-python",
   "name": "python",
   "nbconvert_exporter": "python",
   "pygments_lexer": "ipython3",
   "version": "3.12.7"
  }
 },
 "nbformat": 4,
 "nbformat_minor": 4
}
