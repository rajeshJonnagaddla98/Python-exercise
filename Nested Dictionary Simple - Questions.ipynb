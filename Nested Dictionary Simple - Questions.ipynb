{
 "cells": [
  {
   "cell_type": "markdown",
   "metadata": {},
   "source": [
    "# Nested Dictionary Simple Questions"
   ]
  },
  {
   "cell_type": "code",
   "execution_count": 1,
   "metadata": {},
   "outputs": [
    {
     "name": "stdout",
     "output_type": "stream",
     "text": [
      "{'x': {'name': 'Boss', 'job': 'Mgr'}, 'y': {'name': 'Suresh', 'job': 'Dev'}, 'z': {'name': 'Siva', 'job': 'Dev'}}\n"
     ]
    }
   ],
   "source": [
    "'''1. Write a python program to create a simple nested dictionary.\n",
    "    Expected Output:\n",
    "        {'x': {'name': 'Boss', 'job': 'Mgr'},'y': {'name': 'Suresh', 'job': 'Dev'},'z': {'name': 'Siva', 'job': 'Dev'}}'''\n",
    "        \n",
    "nested_dict = {\n",
    "    'x': {'name': 'Boss', 'job': 'Mgr'},\n",
    "    'y': {'name': 'Suresh', 'job': 'Dev'},\n",
    "    'z': {'name': 'Siva', 'job': 'Dev'}\n",
    "}        \n",
    "\n",
    "print(nested_dict)        \n",
    "        \n",
    "        "
   ]
  },
  {
   "cell_type": "code",
   "execution_count": 11,
   "metadata": {},
   "outputs": [
    {
     "name": "stdout",
     "output_type": "stream",
     "text": [
      "{'x': {'name': 'Boss', 'job': 'Mgr'}, 'y': {'name': 'Suresh', 'job': 'Dev'}, 'z': {'name': 'Siva', 'job': 'Dev'}}\n"
     ]
    }
   ],
   "source": [
    "'''2. Write a python to create a nested dictionary using two given lists, in which take one list as key and other list as value.\n",
    "    Data:\n",
    "        IDs = ['x','y','z']\n",
    "        EmpInfo = [{'name': 'Boss', 'job': 'Mgr'},{'name': 'Suresh', 'job': 'Dev'},{'name': 'Siva', 'job': 'Dev'}]\n",
    "    Expected Output:\n",
    "        {'x': {'name': 'Boss', 'job': 'Mgr'}, 'y': {'name': 'Suresh', 'job': 'Dev'}, 'z': {'name': 'Siva', 'job': 'Dev'}}'''\n",
    "\n",
    "IDs = ['x','y','z']\n",
    "EmpInfo = [{'name': 'Boss', 'job': 'Mgr'},{'name': 'Suresh', 'job': 'Dev'},{'name': 'Siva', 'job': 'Dev'}]\n",
    "\n",
    "dict1 = {key : value for key , value in zip(IDs, EmpInfo)}\n",
    "print(dict1)\n"
   ]
  },
  {
   "cell_type": "code",
   "execution_count": 13,
   "metadata": {},
   "outputs": [
    {
     "name": "stdout",
     "output_type": "stream",
     "text": [
      "{'x': {'name': '', 'job': ''}, 'y': {'name': '', 'job': ''}, 'z': {'name': '', 'job': ''}}\n"
     ]
    }
   ],
   "source": [
    "'''3. Write a python program to create a nested dictionary as given below using fromkeys() method.\n",
    "    Data:\n",
    "        IDs = ['x','y','z']\n",
    "        Defaults = {'name': '', 'job': ''}\n",
    "    Expected Output: \n",
    "        {'x': {'name': '', 'job': ''}, 'y': {'name': '', 'job': ''}, 'z': {'name': '', 'job': ''}}'''\n",
    "\n",
    "IDs = ['x','y','z']\n",
    "Defaults = {'name': '', 'job': ''}\n",
    "\n",
    "dict1 = dict.fromkeys(IDs, Defaults)\n",
    "\n",
    "print(dict1)\n",
    "        \n",
    "        \n",
    "        "
   ]
  },
  {
   "cell_type": "code",
   "execution_count": 25,
   "metadata": {},
   "outputs": [
    {
     "name": "stdout",
     "output_type": "stream",
     "text": [
      "Boss\n",
      "Dev\n"
     ]
    }
   ],
   "source": [
    "'''4. Write a python program to access individual items in a nested dictionary. For example, print the name 'Siva' from given nested dictionary.\n",
    "    Data:\n",
    "        D = {'x': {'name': 'Boss', 'job': 'Mgr'},'y': {'name': 'Suresh', 'job': 'Dev'},'z': {'name': 'Siva', 'job': 'Dev'}}\n",
    "    Expected Output:\n",
    "        Boss\n",
    "        Dev'''\n",
    "\n",
    "D = {'x': {'name': 'Boss', 'job': 'Mgr'},'y': {'name': 'Suresh', 'job': 'Dev'},'z': {'name': 'Siva', 'job': 'Dev'}}\n",
    "\n",
    "print(D['x']['name'])\n",
    "print(D['y']['job'])  \n",
    "        "
   ]
  },
  {
   "cell_type": "code",
   "execution_count": 47,
   "metadata": {},
   "outputs": [
    {
     "name": "stdout",
     "output_type": "stream",
     "text": [
      "Boss\n",
      "None\n"
     ]
    }
   ],
   "source": [
    "'''5. Write a python program to print the value that is not present in the given nested dictionary, without throwing any error using get() method.\n",
    "    Data:\n",
    "        D = {'x': {'name': 'Boss', 'job': 'Mgr'},'y': {'name': 'Suresh', 'job': 'Dev'},'z': {'name': 'Siva', 'job': 'Dev'}}\n",
    "    Expected Output:\n",
    "        Boss\n",
    "        None'''\n",
    "\n",
    "D = {'x': {'name': 'Boss', 'job': 'Mgr'},'y': {'name': 'Suresh', 'job': 'Dev'},'z': {'name': 'Siva', 'job': 'Dev'}}\n",
    "\n",
    "y = D.get('x', {}).get('name')\n",
    "z = D.get('x', {}). get('number')\n",
    "\n",
    "print(y)\n",
    "print(z)"
   ]
  },
  {
   "cell_type": "code",
   "execution_count": 51,
   "metadata": {},
   "outputs": [
    {
     "name": "stdout",
     "output_type": "stream",
     "text": [
      "{'x': {'name': 'Boss', 'job': 'Mgr'}, 'y': {'name': 'Suresh', 'job': 'Dev'}, 'z': {'name': 'Siva', 'job': 'Dev'}, 'name': 'Karthi', 'job': 'Janitor'}\n"
     ]
    }
   ],
   "source": [
    "'''6. Write a python program to update the value of a specific item in a nested dictionary, by refering its key.\n",
    "    Data:\n",
    "        D = {'x': {'name': 'Boss', 'job': 'Mgr'},'y': {'name': 'Suresh', 'job': 'Dev'},'z': {'name': 'Siva', 'job': 'Dev'}}\n",
    "    Expected Output:\n",
    "        {'name': 'Karthi', 'job': 'Janitor'}'''\n",
    "        \n",
    "D = {'x': {'name': 'Boss', 'job': 'Mgr'},'y': {'name': 'Suresh', 'job': 'Dev'},'z': {'name': 'Siva', 'job': 'Dev'}}\n",
    "D.update({'name': 'Karthi', 'job': 'Janitor'})\n",
    "\n",
    "print(D)\n",
    "        \n",
    "        "
   ]
  },
  {
   "cell_type": "code",
   "execution_count": 55,
   "metadata": {},
   "outputs": [
    {
     "name": "stdout",
     "output_type": "stream",
     "text": [
      "{'x': {'name': 'Boss', 'job': 'Mgr'}, 'y': {'name': 'Suresh', 'job': 'Dev'}, 'z': {'name': 'Karthi', 'job': 'Janitor'}}\n"
     ]
    }
   ],
   "source": [
    "'''7. Write a python program to update a whole dictionary of a given nested dictionary. \n",
    "            For example, update the values of a dictionary whose key is 'z'.\n",
    "    Data:\n",
    "        D = {'x': {'name': 'Boss', 'job': 'Mgr'},'y': {'name': 'Suresh', 'job': 'Dev'},'z': {'name': 'Siva', 'job': 'Dev'}}\n",
    "    Expected Output:\n",
    "        {'x': {'name': 'Boss', 'job': 'Mgr'}, 'y': {'name': 'Suresh', 'job': 'Dev'}, 'z': {'name': 'Karthi', 'job': 'Janitor'}}'''\n",
    "\n",
    "D = {'x': {'name': 'Boss', 'job': 'Mgr'},'y': {'name': 'Suresh', 'job': 'Dev'},'z': {'name': 'Siva', 'job': 'Dev'}}\n",
    "D['z'].update({'name': 'Karthi', 'job': 'Janitor'})\n",
    "\n",
    "print(D)        \n"
   ]
  },
  {
   "cell_type": "code",
   "execution_count": 63,
   "metadata": {},
   "outputs": [
    {
     "name": "stdout",
     "output_type": "stream",
     "text": [
      "{'x': {'name': 'Boss', 'job': 'Mgr'}, 'y': {'name': 'Suresh', 'job': 'Dev'}, 'z': {'name': 'Siva', 'job': 'Dev'}, 'A': {'name': 'Karthi', 'job': 'Janitor'}}\n"
     ]
    }
   ],
   "source": [
    "'''8. Write a python program to add a new dictionary to a given nested dictionary. \n",
    "            For example, add a new dictionary 'A': {'name': 'Karthi', 'job': 'Janitor'} to the given data.\n",
    "    Data:\n",
    "        D = {'x': {'name': 'Boss', 'job': 'Mgr'},'y': {'name': 'Suresh', 'job': 'Dev'},'z': {'name': 'Siva', 'job': 'Dev'}}\n",
    "    Expected Output:\n",
    "        {'x': {'name': 'Boss', 'job': 'Mgr'}, \n",
    "         'y': {'name': 'Suresh', 'job': 'Dev'}, \n",
    "         'z': {'name': 'Siva', 'job': 'Dev'}, \n",
    "         'A': {'name': 'Karthi', 'job': 'Janitor'}}'''\n",
    "D = {'x': {'name': 'Boss', 'job': 'Mgr'},'y': {'name': 'Suresh', 'job': 'Dev'},'z': {'name': 'Siva', 'job': 'Dev'}}        \n",
    "D['A'] = {'name': 'Karthi', 'job': 'Janitor'}\n",
    "\n",
    "print(D)\n",
    "        \n",
    "        \n",
    "        "
   ]
  },
  {
   "cell_type": "code",
   "execution_count": 65,
   "metadata": {},
   "outputs": [
    {
     "name": "stdout",
     "output_type": "stream",
     "text": [
      "{'x': {'name': 'Boss', 'job': 'Mgr'}, 'y': {'name': 'Suresh', 'job': 'Dev'}, 'z': {'name': 'Siva', 'job': 'Dev'}, 'A': {'name': 'Karthi', 'job': 'Janitor'}}\n"
     ]
    }
   ],
   "source": [
    "'''9. Write a python program to update the dictionary D2 into the dictionary D1 using the built-in update() method.\n",
    "    Data:\n",
    "        D1 = {'x': {'name': 'Boss', 'job': 'Mgr'}, 'y': {'name': 'Suresh', 'job': 'Dev'},}\n",
    "        D2 = {'z': {'name': 'Siva', 'job': 'Dev'}, 'A': {'name': 'Karthi', 'job': 'Janitor'}}\n",
    "    Expected Output:\n",
    "        {'x': {'name': 'Boss', 'job': 'Mgr'}, \n",
    "         'y': {'name': 'Suresh', 'job': 'Dev'}, \n",
    "         'z': {'name': 'Siva', 'job': 'Dev'}, \n",
    "         'A': {'name': 'Karthi', 'job': 'Janitor'}}'''\n",
    "D1 = {'x': {'name': 'Boss', 'job': 'Mgr'}, 'y': {'name': 'Suresh', 'job': 'Dev'},}\n",
    "D2 = {'z': {'name': 'Siva', 'job': 'Dev'}, 'A': {'name': 'Karthi', 'job': 'Janitor'}}   \n",
    "D1.update(D2)\n",
    "print(D1)\n",
    "        \n",
    "        \n",
    "        "
   ]
  },
  {
   "cell_type": "code",
   "execution_count": 81,
   "metadata": {},
   "outputs": [
    {
     "name": "stdout",
     "output_type": "stream",
     "text": [
      "{'x': {'name': 'Boss', 'job': 'Mgr'}, 'y': {'name': 'Suresh', 'job': 'Dev'}}\n",
      "{'name': 'Siva', 'job': 'Dev'}\n"
     ]
    }
   ],
   "source": [
    "'''10. Write a python program to remove the key 'z' from the given nested dictionary using pop().\n",
    "    Data:\n",
    "        D = {'x': {'name': 'Boss', 'job': 'Mgr'},'y': {'name': 'Suresh', 'job': 'Dev'},'z': {'name': 'Siva', 'job': 'Dev'}}\n",
    "    Expected Output:\n",
    "        {'x': {'name': 'Boss', 'job': 'Mgr'}, \n",
    "         'y': {'name': 'Suresh', 'job': 'Dev'}}\n",
    "              {'name': 'Siva', 'job': 'Dev'}'''\n",
    "            \n",
    "D = {'x': {'name': 'Boss', 'job': 'Mgr'},'y': {'name': 'Suresh', 'job': 'Dev'},'z': {'name': 'Siva', 'job': 'Dev'}}\n",
    "removed_value = D.pop('z', None)\n",
    "print(D)\n",
    "\n",
    "if removed_value:\n",
    "    print(removed_value)\n",
    "    \n",
    "            "
   ]
  },
  {
   "cell_type": "code",
   "execution_count": null,
   "metadata": {},
   "outputs": [],
   "source": []
  }
 ],
 "metadata": {
  "kernelspec": {
   "display_name": "Python 3 (ipykernel)",
   "language": "python",
   "name": "python3"
  },
  "language_info": {
   "codemirror_mode": {
    "name": "ipython",
    "version": 3
   },
   "file_extension": ".py",
   "mimetype": "text/x-python",
   "name": "python",
   "nbconvert_exporter": "python",
   "pygments_lexer": "ipython3",
   "version": "3.12.7"
  }
 },
 "nbformat": 4,
 "nbformat_minor": 4
}
