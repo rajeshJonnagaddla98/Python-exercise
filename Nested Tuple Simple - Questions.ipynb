{
 "cells": [
  {
   "cell_type": "markdown",
   "metadata": {},
   "source": [
    "# Nested Tuple Simple Questions"
   ]
  },
  {
   "cell_type": "code",
   "execution_count": 1,
   "metadata": {},
   "outputs": [
    {
     "name": "stdout",
     "output_type": "stream",
     "text": [
      "('Boss', [8, 4, 6], (1, 2, 3))\n"
     ]
    }
   ],
   "source": [
    "'''1. Write a Python program to create a simple nested tuple.\n",
    "    Data:\n",
    "        x = (\"Boss\", [8, 4, 6], (1, 2, 3)) \n",
    "    Expected Output:\n",
    "        ('Boss', [8, 4, 6], (1, 2, 3))'''\n",
    "\n",
    "x = (\"Boss\", [8, 4, 6], (1, 2, 3)) \n",
    "print(x)\n",
    "        \n",
    "        \n",
    "        \n",
    "        "
   ]
  },
  {
   "cell_type": "code",
   "execution_count": 5,
   "metadata": {},
   "outputs": [
    {
     "name": "stdout",
     "output_type": "stream",
     "text": [
      "{2: 'w', 3: 'r'}\n"
     ]
    }
   ],
   "source": [
    "'''2. Write a Python program to convert a nested tuple into a dictionary.\n",
    "    Data:\n",
    "        x = ((2, \"w\"),(3, \"r\"))\n",
    "    Expected Output:\n",
    "        {'w': 2, 'r': 3}'''\n",
    "x = ((2, \"w\"),(3, \"r\"))  \n",
    "print(dict(x))\n",
    "        \n",
    "        \n",
    "        "
   ]
  },
  {
   "cell_type": "code",
   "execution_count": 17,
   "metadata": {},
   "outputs": [
    {
     "name": "stdout",
     "output_type": "stream",
     "text": [
      "(1, [9, 8, 77], 'boss')\n"
     ]
    }
   ],
   "source": [
    "'''3. Write a Python program to update the element in a given nested tuple.\n",
    "    Data:\n",
    "        x = ((1), [9, 8, 7], (\"boss\"))\n",
    "    Expected Output:\n",
    "        (1, [9, 8, 77], 'boss')'''\n",
    "\n",
    "x = ((1), [9, 8, 7], (\"boss\"))\n",
    "\n",
    "x[1][2] = 77\n",
    "\n",
    "print(x)\n",
    "        "
   ]
  },
  {
   "cell_type": "code",
   "execution_count": 19,
   "metadata": {},
   "outputs": [
    {
     "name": "stdout",
     "output_type": "stream",
     "text": [
      "4\n"
     ]
    }
   ],
   "source": [
    "'''4. Write a Python program to find the length of the given nested tuple.\n",
    "    Data:\n",
    "        L = (\"a\",(\"b\",\"c\"),\"d\",(\"e\",\"f\"))\n",
    "    Expected Output:\n",
    "        ('a', ('b', 'c'), 'd', ('e', 'f'))\n",
    "        4'''\n",
    "L = (\"a\",(\"b\",\"c\"),\"d\",(\"e\",\"f\"))\n",
    "print(len(L))\n"
   ]
  },
  {
   "cell_type": "code",
   "execution_count": 23,
   "metadata": {},
   "outputs": [
    {
     "name": "stdout",
     "output_type": "stream",
     "text": [
      "('A', (1, 2), 'B', ('a', 'b'))\n",
      "4\n"
     ]
    }
   ],
   "source": [
    "'''5. Write a Python program to create a nested tuple by using the given tuples.\n",
    "    Data:\n",
    "        t1 = (1,2)\n",
    "        t2 = ('a','a')\n",
    "        t3 = ('A','B')\n",
    "    Expected Output:\n",
    "        Create/print nested tuple\n",
    "        ('A', (1, 2), 'B', ('a', 'b'))\n",
    "        Length of nested tuple is:\n",
    "        4'''\n",
    "\n",
    "t1 = (1,2)\n",
    "t2 = ('a','a')\n",
    "t3 = ('A','B')\n",
    "nested_tuple = (t3[0], t1, t3[1], ('a', 'b'))\n",
    "\n",
    "print(nested_tuple)\n",
    "print(len(nested_tuple))"
   ]
  },
  {
   "cell_type": "code",
   "execution_count": null,
   "metadata": {},
   "outputs": [],
   "source": [
    "''' 6. Write a Python script that illustrates the use of multiple square-bracket indexing to access and display an item in a \n",
    "   nested tuple.\n",
    "    Data:\n",
    "        t1 = (\"a\",)\n",
    "        t2 = (t1*2)\n",
    "    Expected Output:\n",
    "        ('a', 'a')\n",
    "        Contains a '''\n",
    "        \n",
    "#didnt understand the question      \n",
    "        \n",
    "        "
   ]
  },
  {
   "cell_type": "code",
   "execution_count": 37,
   "metadata": {},
   "outputs": [
    {
     "name": "stdout",
     "output_type": "stream",
     "text": [
      "9\n"
     ]
    }
   ],
   "source": [
    "'''7. Write a python program to find the length of the given nested tuple including the elements inside the tuple of tuples.\n",
    "    Data:\n",
    "        t1 =(1,(4,(7,8,9),6),3)\n",
    "    Expected Output:\n",
    "        9'''\n",
    "\n",
    "t1 =(1,(4,(7,8,9),6),3)\n",
    "\n",
    "print(len(t1) + len(t1[1]) + len(t1[1][1]))\n"
   ]
  },
  {
   "cell_type": "code",
   "execution_count": 43,
   "metadata": {},
   "outputs": [
    {
     "name": "stdout",
     "output_type": "stream",
     "text": [
      "The original tuple : ((4, 'Sara'), (3, 'Shar'), (6, 'Sid'))\n",
      "The converted dictionary : [{'key': 4, 'value': 'Sara'}, {'key': 3, 'value': 'Shar'}, {'key': 6, 'value': 'Sid'}]\n"
     ]
    }
   ],
   "source": [
    "'''8. Write a Python program to convert a nested tuple into a dictionary.\n",
    "    Data:\n",
    "        t = ((4, 'Sara'), (3, 'Shar'), (6, 'Sid'))\n",
    "    Expected Output:\n",
    "        The original tuple : ((4, 'Sara'), (3, 'Shar'), (6, 'Sid'))\n",
    "        The converted dictionary : [{'key': 4, 'value': 'Sara'}, {'key': 3, 'value': 'Shar'}, {'key': 6, 'value': 'Sid'}]'''\n",
    "        \n",
    "t = ((4, 'Sara'), (3, 'Shar'), (6, 'Sid'))       \n",
    "\n",
    "d1 = [{'key': item[0], 'value': item[1]} for item in t]\n",
    "\n",
    "print(\"The original tuple :\", t)\n",
    "print(\"The converted dictionary :\", d1)\n",
    "        \n",
    "        "
   ]
  },
  {
   "cell_type": "code",
   "execution_count": 45,
   "metadata": {},
   "outputs": [
    {
     "name": "stdout",
     "output_type": "stream",
     "text": [
      "Original list is : [('Sara', 1), ('Shar', 2), ('Sid', 3), ('Shwe', 4)]\n",
      "Modified list is : [['Sara', 'Shar', 'Sid', 'Shwe'], [1, 2, 3, 4]]\n"
     ]
    }
   ],
   "source": [
    "'''9. Write a Python program to unzip a list of nested tuples into individual lists.\n",
    "    Data:\n",
    "        l = [('Sara', 1), ('Shar', 2), ('Sid', 3), ('Shwe', 4)]\n",
    "    Expected Output:\n",
    "        Original list is : [('Sara', 1), ('Shar', 2), ('Sid', 3), ('Shwe', 4)]\n",
    "        Modified list is : [['Sara', 'Shar', 'Sid', 'Shwe'], [1, 2, 3, 4]]'''\n",
    "l = [('Sara', 1), ('Shar', 2), ('Sid', 3), ('Shwe', 4)]\n",
    "unzip_lists = list(zip(*l))\n",
    "modified_list = [list(unzip_lists[0]), list(unzip_lists[1])]\n",
    "print(\"Original list is :\", l)\n",
    "print(\"Modified list is :\", modified_list)\n",
    "        \n",
    "        \n",
    "        "
   ]
  },
  {
   "cell_type": "code",
   "execution_count": 49,
   "metadata": {},
   "outputs": [
    {
     "name": "stdout",
     "output_type": "stream",
     "text": [
      "[(10, 20, 100), (40, 50, 100), (70, 80, 100)]\n"
     ]
    }
   ],
   "source": [
    "'''10. Write a Python program to replace the last value of each tuples in a nested tuple. \n",
    "    Data:\n",
    "        ((10, 20, 40), (40, 50, 60), (70, 80, 90))\n",
    "    Expected Output:\n",
    "        [(10, 20, 100), (40, 50, 100), (70, 80, 100)]'''\n",
    "        \n",
    "nested_tuples = ((10, 20, 40), (40, 50, 60), (70, 80, 90))\n",
    "\n",
    "modified_tuples = [tuple(list(t)[:-1] + [100]) for t in nested_tuples]\n",
    "        \n",
    "print( modified_tuples)       "
   ]
  },
  {
   "cell_type": "code",
   "execution_count": null,
   "metadata": {},
   "outputs": [],
   "source": []
  }
 ],
 "metadata": {
  "kernelspec": {
   "display_name": "Python 3 (ipykernel)",
   "language": "python",
   "name": "python3"
  },
  "language_info": {
   "codemirror_mode": {
    "name": "ipython",
    "version": 3
   },
   "file_extension": ".py",
   "mimetype": "text/x-python",
   "name": "python",
   "nbconvert_exporter": "python",
   "pygments_lexer": "ipython3",
   "version": "3.12.7"
  }
 },
 "nbformat": 4,
 "nbformat_minor": 4
}
