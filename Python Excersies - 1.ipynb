{
 "cells": [
  {
   "cell_type": "code",
   "execution_count": 1,
   "metadata": {},
   "outputs": [],
   "source": [
    "# write a program to add two  integers 10 , 20"
   ]
  },
  {
   "cell_type": "code",
   "execution_count": 1,
   "metadata": {},
   "outputs": [
    {
     "name": "stdout",
     "output_type": "stream",
     "text": [
      "30\n"
     ]
    }
   ],
   "source": [
    "a = 10\n",
    "b = 20\n",
    "\n",
    "print(a + b)"
   ]
  },
  {
   "cell_type": "code",
   "execution_count": 2,
   "metadata": {},
   "outputs": [],
   "source": [
    "# Write a program to find the type of a, b ,c where a=2, b=2.8,c=\"John\""
   ]
  },
  {
   "cell_type": "code",
   "execution_count": 3,
   "metadata": {},
   "outputs": [
    {
     "name": "stdout",
     "output_type": "stream",
     "text": [
      "<class 'int'>\n",
      "<class 'tuple'>\n",
      "<class 'str'>\n"
     ]
    }
   ],
   "source": [
    "a = 2\n",
    "b = 2.8,\n",
    "c = \"john\"\n",
    "\n",
    "print(type(a))\n",
    "print(type(b))\n",
    "print(type(c))"
   ]
  },
  {
   "cell_type": "code",
   "execution_count": 3,
   "metadata": {},
   "outputs": [],
   "source": [
    "# Write a program to swap the two numbers , where a=2 ,b=4 the program should print a= 4 ,b=2"
   ]
  },
  {
   "cell_type": "code",
   "execution_count": 11,
   "metadata": {},
   "outputs": [
    {
     "name": "stdout",
     "output_type": "stream",
     "text": [
      "a= 4 ,b= 2\n"
     ]
    }
   ],
   "source": [
    "a = 2\n",
    "b = 4\n",
    "\n",
    "a,b = b,a\n",
    "print(\"a=\", a ,\",\"\"b=\", b)"
   ]
  },
  {
   "cell_type": "code",
   "execution_count": 4,
   "metadata": {},
   "outputs": [],
   "source": [
    "# Write a program to swap the two numbers , using 3 variables"
   ]
  },
  {
   "cell_type": "code",
   "execution_count": 13,
   "metadata": {},
   "outputs": [
    {
     "name": "stdout",
     "output_type": "stream",
     "text": [
      "a= 4 b= 10 c= 2\n"
     ]
    }
   ],
   "source": [
    "a = 2\n",
    "b = 4\n",
    "c = 10\n",
    "a,b,c = b,c,a\n",
    "\n",
    "print(\"a=\", a ,\"b=\", b , \"c=\", c)"
   ]
  },
  {
   "cell_type": "code",
   "execution_count": 5,
   "metadata": {},
   "outputs": [],
   "source": [
    "# Write a program to print the numerator and denominator , quotient and remainder"
   ]
  },
  {
   "cell_type": "code",
   "execution_count": 25,
   "metadata": {},
   "outputs": [
    {
     "name": "stdout",
     "output_type": "stream",
     "text": [
      "numeratior is 25\n",
      "denominator is 6\n",
      "quotiant is 4\n",
      "remainder is 1\n"
     ]
    }
   ],
   "source": [
    "a = 25\n",
    "b = 6\n",
    "\n",
    "print(\"numeratior is\", a)\n",
    "print(\"denominator is\", b)\n",
    "print(\"quotiant is\", a // b)\n",
    "print(\"remainder is\", a % b)"
   ]
  },
  {
   "cell_type": "code",
   "execution_count": 6,
   "metadata": {},
   "outputs": [],
   "source": [
    "# Write a program to calculate simple interst , si =p*n*r/100"
   ]
  },
  {
   "cell_type": "code",
   "execution_count": 27,
   "metadata": {},
   "outputs": [
    {
     "name": "stdout",
     "output_type": "stream",
     "text": [
      "2000.0\n"
     ]
    }
   ],
   "source": [
    "p = 1000\n",
    "n = 20\n",
    "r = 10\n",
    "\n",
    "si =p*n*r/100\n",
    "\n",
    "print(si)\n"
   ]
  },
  {
   "cell_type": "code",
   "execution_count": 7,
   "metadata": {},
   "outputs": [],
   "source": [
    "# Write a program to calculate the area and circumference of a circle ,area=3.14*radius*radius , circumference=2*3.14*r"
   ]
  },
  {
   "cell_type": "code",
   "execution_count": 31,
   "metadata": {},
   "outputs": [
    {
     "name": "stdout",
     "output_type": "stream",
     "text": [
      "area is 314.0\n",
      "circumference is 125.60000000000001\n"
     ]
    }
   ],
   "source": [
    "radius = 10\n",
    "r = 20\n",
    "\n",
    "print(\"area is\", 3.14*radius*radius)\n",
    "\n",
    "print(\"circumference is\", 2*3.14*r)"
   ]
  },
  {
   "cell_type": "code",
   "execution_count": 8,
   "metadata": {},
   "outputs": [],
   "source": [
    "# Write a program to convert Celcius to Fariehiet , fariienhiet=1.8*celcius+32"
   ]
  },
  {
   "cell_type": "code",
   "execution_count": 33,
   "metadata": {},
   "outputs": [
    {
     "name": "stdout",
     "output_type": "stream",
     "text": [
      "fariienhiet is  194.0\n"
     ]
    }
   ],
   "source": [
    "celcius = 90\n",
    "print(\"fariienhiet is \", 1.8*celcius+32)\n",
    "\n"
   ]
  },
  {
   "cell_type": "code",
   "execution_count": 9,
   "metadata": {},
   "outputs": [],
   "source": [
    "# Write a program to find whether given number is odd or even"
   ]
  },
  {
   "cell_type": "code",
   "execution_count": 47,
   "metadata": {},
   "outputs": [
    {
     "name": "stdout",
     "output_type": "stream",
     "text": [
      "even number\n",
      "odd number\n"
     ]
    }
   ],
   "source": [
    "a = 30\n",
    "b = 29\n",
    "\n",
    "if a % 2 == 0:\n",
    "    print(\"even number\")\n",
    "else:\n",
    "    print(\"odd number\")\n",
    "\n",
    "if b % 2 == 0:\n",
    "    print(\"even number\")\n",
    "else:\n",
    "    print(\"odd number\")"
   ]
  },
  {
   "cell_type": "code",
   "execution_count": 10,
   "metadata": {},
   "outputs": [],
   "source": [
    "# Write a program to check whether the person can vote or not"
   ]
  },
  {
   "cell_type": "code",
   "execution_count": 51,
   "metadata": {},
   "outputs": [
    {
     "name": "stdout",
     "output_type": "stream",
     "text": [
      "can vote\n",
      "cannot vote\n"
     ]
    }
   ],
   "source": [
    "age1 = 30\n",
    "age2 = 10\n",
    "\n",
    "if age1 >= 18:\n",
    "    print(\"can vote\")\n",
    "else:\n",
    "    print(\"cannot vote\")\n",
    "if age2 >= 18:\n",
    "    print(\"can vote\")\n",
    "else:\n",
    "    print(\"cannot vote\")"
   ]
  },
  {
   "cell_type": "code",
   "execution_count": 11,
   "metadata": {},
   "outputs": [],
   "source": [
    "# Write a program to find whether the given number is odd or even"
   ]
  },
  {
   "cell_type": "code",
   "execution_count": 53,
   "metadata": {},
   "outputs": [
    {
     "name": "stdout",
     "output_type": "stream",
     "text": [
      "even number\n",
      "odd number\n"
     ]
    }
   ],
   "source": [
    "a = 30\n",
    "b = 29\n",
    "\n",
    "if a % 2 == 0:\n",
    "    print(\"even number\")\n",
    "else:\n",
    "    print(\"odd number\")\n",
    "\n",
    "if b % 2 == 0:\n",
    "    print(\"even number\")\n",
    "else:\n",
    "    print(\"odd number\")"
   ]
  },
  {
   "cell_type": "code",
   "execution_count": 12,
   "metadata": {},
   "outputs": [],
   "source": [
    "# Write a program to find whether the given year is leap year or not ?"
   ]
  },
  {
   "cell_type": "code",
   "execution_count": 75,
   "metadata": {},
   "outputs": [
    {
     "name": "stdout",
     "output_type": "stream",
     "text": [
      "not leaf year\n",
      "leaf year\n"
     ]
    }
   ],
   "source": [
    "year1 = 2025\n",
    "year2 = 2024\n",
    "\n",
    "if (year1 % 4 == 0 and year1 % 100 != 0) or year1 % 400 == 0:\n",
    "    print(\"leaf year\")\n",
    "else:\n",
    "    print(\"not leaf year\")\n",
    "if (year2 % 4 == 0 and year2 % 100 != 0) or year2 % 400 == 0:\n",
    "    print(\"leaf year\")\n",
    "else:\n",
    "    print(\"not leaf year\")\n",
    "       "
   ]
  },
  {
   "cell_type": "code",
   "execution_count": 81,
   "metadata": {},
   "outputs": [
    {
     "name": "stdout",
     "output_type": "stream",
     "text": [
      "c is big number\n"
     ]
    }
   ],
   "source": [
    "# Write a program to find the bigeest of three numbers\n",
    "a = 1000\n",
    "b = 200\n",
    "c = 5000\n",
    "\n",
    "if (a > b and a > c):\n",
    "    print(\"a is big number\")\n",
    "elif(b > a and b > c):\n",
    "    print(\"b is big number\")\n",
    "else:\n",
    "    print(\"c is big number\")\n"
   ]
  },
  {
   "cell_type": "code",
   "execution_count": null,
   "metadata": {},
   "outputs": [],
   "source": []
  }
 ],
 "metadata": {
  "kernelspec": {
   "display_name": "Python 3 (ipykernel)",
   "language": "python",
   "name": "python3"
  },
  "language_info": {
   "codemirror_mode": {
    "name": "ipython",
    "version": 3
   },
   "file_extension": ".py",
   "mimetype": "text/x-python",
   "name": "python",
   "nbconvert_exporter": "python",
   "pygments_lexer": "ipython3",
   "version": "3.12.7"
  }
 },
 "nbformat": 4,
 "nbformat_minor": 4
}
