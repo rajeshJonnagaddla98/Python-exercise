{
 "cells": [
  {
   "cell_type": "markdown",
   "metadata": {},
   "source": [
    "# Zip Intermediate Questions"
   ]
  },
  {
   "cell_type": "code",
   "execution_count": 5,
   "metadata": {},
   "outputs": [
    {
     "name": "stdout",
     "output_type": "stream",
     "text": [
      "[('x', 3), ('y', 4), ('z', 5)]\n",
      "c ('x', 'y', 'z')\n",
      "v (3, 4, 5)\n"
     ]
    }
   ],
   "source": [
    "'''1. Write a python program to unzip the values and store it separate variables.\n",
    "    Data:\n",
    "        [('x', 3), ('y', 4), ('z', 5)]\n",
    "    Expected Output:\n",
    "        [('x', 3), ('y', 4), ('z', 5)]\n",
    "        c = ('x', 'y', 'z')\n",
    "        v = (3, 4, 5)'''\n",
    "\n",
    "l = [('x', 3), ('y', 4), ('z', 5)]\n",
    "print(l)\n",
    "\n",
    "c,v = zip(*l)\n",
    "\n",
    "print(\"c\", c)\n",
    "print(\"v\", v)\n",
    "        \n",
    "        \n",
    "        \n",
    "        "
   ]
  },
  {
   "cell_type": "code",
   "execution_count": 17,
   "metadata": {},
   "outputs": [
    {
     "name": "stdout",
     "output_type": "stream",
     "text": [
      "[('Carol', 100), ('Ross', 34), ('Rachel', 87), ('Carol', 23), ('Ross', 65)]\n"
     ]
    }
   ],
   "source": [
    "'''2. Write a python program to zip lists of different lengths using cycle().\n",
    "    Data:\n",
    "        ['Carol', 'Ross', 'Rachel']\n",
    "        [ 100, 34, 87, 23, 65 ]\n",
    "    Expected Output:\n",
    "        [('Carol', 100), ('Ross', 34), ('Rachel', 87), ('Carol', 23), ('Ross', 65)]'''\n",
    "\n",
    "from itertools import cycle\n",
    "l1 = ['Carol', 'Ross', 'Rachel']\n",
    "l2 = [ 100, 34, 87, 23, 65 ]\n",
    "\n",
    "z = list(zip(cycle(l1), l2))\n",
    "\n",
    "print(z)\n",
    "\n",
    "        \n",
    "        \n",
    "        "
   ]
  },
  {
   "cell_type": "code",
   "execution_count": 21,
   "metadata": {},
   "outputs": [
    {
     "name": "stdout",
     "output_type": "stream",
     "text": [
      "[[2, 4, 1, 3], [6, 8, 5, 7], [10, 12, 9, 11]]\n"
     ]
    }
   ],
   "source": [
    "'''3. Write a python program to zip two lists of lists using itertools.chain() + zip() functions.\n",
    "    Data:\n",
    "        [[2, 4], [6, 8], [10, 12]]\n",
    "        [[1, 3], [5, 7], [9, 11]]\n",
    "    Expected Output:\n",
    "        [[2, 4, 1, 3], [6, 8, 5, 7], [10, 12, 9, 11]]'''\n",
    "\n",
    "import itertools\n",
    "\n",
    "listA = [[2, 4], [6, 8], [10, 12]]\n",
    "listB = [[1, 3], [5, 7], [9, 11]]\n",
    "\n",
    "op = [list(itertools.chain(*i))\n",
    "      for i in zip(listA, listB)]\n",
    "\n",
    "print(list(op))        \n",
    "        \n"
   ]
  },
  {
   "cell_type": "code",
   "execution_count": 23,
   "metadata": {},
   "outputs": [
    {
     "name": "stdout",
     "output_type": "stream",
     "text": [
      "Original dictionary of lists:\n",
      "{'Science': [98, 19, 22, 55], 'Language': [67, 18, 34, 90]}\n",
      "\n",
      "Split said dictionary of lists into list of dictionaries:\n",
      "[{'Science': 98, 'Language': 67}, {'Science': 19, 'Language': 18}, {'Science': 22, 'Language': 34}, {'Science': 55, 'Language': 90}]\n"
     ]
    }
   ],
   "source": [
    "'''4. Write a Python program to split a given dictionary of lists into list of dictionaries using zip() function.\n",
    "    Data:\n",
    "        marks = {'Science': [98, 19, 22, 55], 'Language': [67, 18, 34, 90]}\n",
    "    Expected Output:\n",
    "        Split said dictionary of lists into list of dictionaries:\n",
    "        [{'Science': 98, 'Language': 67}, {'Science': 19, 'Language': 18}, {'Science': 22, 'Language': 34}, \n",
    "         {'Science': 55, 'Language': 90}]'''\n",
    "\n",
    "def fun(marks):\n",
    "    result = map(dict, zip(*[[(key, val) for val in value] for key, value in marks.items()]))\n",
    "    return list(result)\n",
    "marks = {'Science': [98, 19, 22, 55], 'Language': [67, 18, 34, 90]}\n",
    "print(\"Original dictionary of lists:\")\n",
    "print(marks)\n",
    "print(\"\\nSplit said dictionary of lists into list of dictionaries:\")\n",
    "print(fun(marks))\n",
    "        \n",
    "        \n",
    "        \n",
    "        "
   ]
  },
  {
   "cell_type": "code",
   "execution_count": 25,
   "metadata": {},
   "outputs": [
    {
     "name": "stdout",
     "output_type": "stream",
     "text": [
      "0 Boss 24\n",
      "1 Suresh 50\n",
      "2 Siva 18\n"
     ]
    }
   ],
   "source": [
    "'''5. Write a Python program to print following output from given list using enumerate() and zip() functions.\n",
    "    Data:\n",
    "        names = ['Boss', 'Suresh', 'Siva']\n",
    "        ages = [24, 50, 18]\n",
    "    Expected Output:\n",
    "        0 Boss 24\n",
    "        1 Suresh 50\n",
    "        2 Siva 18'''\n",
    "        \n",
    "names = ['Boss', 'Suresh', 'Siva']\n",
    "ages = [24, 50, 18]\n",
    "\n",
    "for i, (name, age) in enumerate(zip(names, ages)):\n",
    "    print(i, name, age)       \n",
    "        \n",
    "        "
   ]
  },
  {
   "cell_type": "code",
   "execution_count": 27,
   "metadata": {},
   "outputs": [
    {
     "name": "stdout",
     "output_type": "stream",
     "text": [
      "<zip object at 0x00000234E1C32000>\n",
      "[(('A', 1), 1), (('B', 2), 2), (('C', 3), 3)]\n"
     ]
    }
   ],
   "source": [
    "'''6. Write a python function to zip one key-value pair from dictionary and correspoinding item in a list together.\n",
    "    Data:\n",
    "        {'A':1, 'B':2, 'C':3}\n",
    "    Expected Output:\n",
    "        <zip object at 0x00000285E6345300>\n",
    "        [(('A', 1), 1), (('B', 2), 2), (('C', 3), 3)]'''\n",
    "d = {'A':1, 'B':2, 'C':3}\n",
    "l = [1, 2, 3]\n",
    "zipped = zip(d.items(), l)\n",
    "print(zipped)\n",
    "print(list(zipped))        \n",
    "        \n",
    "        \n",
    "        "
   ]
  },
  {
   "cell_type": "code",
   "execution_count": 29,
   "metadata": {},
   "outputs": [
    {
     "name": "stdout",
     "output_type": "stream",
     "text": [
      "{'red': '#FF0000', 'green': '#008000', 'blue': '#0000FF'}\n"
     ]
    }
   ],
   "source": [
    "'''7. Write a Python program to map two lists into a dictionary using zip() functions.\n",
    "    Data:\n",
    "        keys = ['red', 'green', 'blue']\n",
    "        values = ['#FF0000','#008000', '#0000FF']\n",
    "    Expected Output:\n",
    "        {'red': '#FF0000', 'green': '#008000', 'blue': '#0000FF'}'''\n",
    "\n",
    "keys = ['red', 'green', 'blue']\n",
    "values = ['#FF0000','#008000', '#0000FF']\n",
    "d = dict(zip(keys, values))\n",
    "print(d)\n",
    "        \n",
    "        \n",
    "        \n",
    "        "
   ]
  },
  {
   "cell_type": "code",
   "execution_count": 31,
   "metadata": {},
   "outputs": [
    {
     "name": "stdout",
     "output_type": "stream",
     "text": [
      "The original list 1 is : [7, 8, 4, 5, 9, 10]\n",
      "The original list 2 is : [1, 5, 6]\n",
      "The zipped list is : [(7, 1), (8, 5), (4, 6), (5, 1), (9, 5), (10, 6)]\n"
     ]
    }
   ],
   "source": [
    "'''8. Write a Python program to demonstrate zipping of two different size of lists using itertools.cycle().\n",
    "    Data:\n",
    "        [7, 8, 4, 5, 9, 10] \n",
    "        [1, 5, 6]\n",
    "    Expected Output:\n",
    "        [(7, 1), (8, 5), (4, 6), (5, 1), (9, 5), (10, 6)]'''\n",
    "\n",
    "from itertools import cycle \n",
    " \n",
    "test_list1 = [7, 8, 4, 5, 9, 10] \n",
    "test_list2 = [1, 5, 6] \n",
    "  \n",
    "print (\"The original list 1 is : \" + str(test_list1)) \n",
    "print (\"The original list 2 is : \" + str(test_list2)) \n",
    " \n",
    "res = list(zip(test_list1, cycle(test_list2)) \n",
    "            if len(test_list1) > len(test_list2) \n",
    "            else zip(cycle(test_list1), test_list2)) \n",
    "  \n",
    "print (\"The zipped list is : \" +  str(res))\n",
    "        \n",
    "        \n",
    "        \n",
    "        "
   ]
  },
  {
   "cell_type": "code",
   "execution_count": 33,
   "metadata": {},
   "outputs": [
    {
     "name": "stdout",
     "output_type": "stream",
     "text": [
      "The original tuple 1 is : ('boss', 'Mark', 'Jane')\n",
      "The original tuple 2 is : (100, 34, 87, 23, 65)\n",
      "The zipped tuple is : [('boss', 100), ('Mark', 34), ('Jane', 87), ('boss', 23), ('Mark', 65)]\n"
     ]
    }
   ],
   "source": [
    "'''9. Write a Python program to demonstrate zip uneven tuple using itertools.cycle().\n",
    "    Data:\n",
    "        ('boss', 'Mark', 'Jane')\n",
    "        (100, 34, 87, 23, 65)\n",
    "    Expected Output:\n",
    "        The original tuple 1 is : ('boss', 'Mark', 'Jane')\n",
    "        The original tuple 2 is : (100, 34, 87, 23, 65)\n",
    "        The zipped tuple is : [('boss', 100), ('Mark', 34), ('Jane', 87), ('boss', 23), ('Mark', 65)]'''\n",
    "\n",
    "from itertools import cycle \n",
    " \n",
    "test_tup1 = ('boss', 'Mark', 'Jane')\n",
    "test_tup2 = (100, 34, 87, 23, 65 )\n",
    " \n",
    "print (\"The original tuple 1 is : \" + str(test_tup1)) \n",
    "print (\"The original tuple 2 is : \" + str(test_tup2)) \n",
    " \n",
    "res = list(zip(test_tup1, cycle(test_tup2)) if len(test_tup1) > len(test_tup2) else zip(cycle(test_tup1), test_tup2)) \n",
    "\n",
    "print (\"The zipped tuple is : \" + str(res))\n",
    "            \n",
    "            \n",
    "            \n",
    "            "
   ]
  },
  {
   "cell_type": "code",
   "execution_count": 37,
   "metadata": {},
   "outputs": [
    {
     "name": "stdout",
     "output_type": "stream",
     "text": [
      "The zipped result is : {('Astha', 2, 70), ('Nikhil', 1, 50), ('Suresh', 4, 40), ('Shambhavi', 3, 60)}\n"
     ]
    }
   ],
   "source": [
    "'''10. Write a Python program to demonstrate the working of zip() function.\n",
    "    Data:\n",
    "        name = [ \"Suresh\", \"Nikhil\", \"Shambhavi\", \"Astha\" ] \n",
    "        roll_no = [ 4, 1, 3, 2 ] \n",
    "        marks = [ 40, 50, 60, 70 ] \n",
    "    Expected Output:\n",
    "        {('Nikhil', 1, 50), ('Shambhavi', 3, 60), ('Suresh', 4, 40), ('Astha', 2, 70)}'''\n",
    "\n",
    "name = [ \"Suresh\", \"Nikhil\", \"Shambhavi\", \"Astha\" ] \n",
    "roll_no = [ 4, 1, 3, 2 ] \n",
    "marks = [ 40, 50, 60, 70 ] \n",
    " \n",
    "m = zip(name, roll_no, marks) \n",
    "   \n",
    "m = set(m) \n",
    "   \n",
    "print (\"The zipped result is : \",end=\"\") \n",
    "print (m) \n",
    "        \n",
    "        \n",
    "        \n",
    "        "
   ]
  },
  {
   "cell_type": "code",
   "execution_count": null,
   "metadata": {},
   "outputs": [],
   "source": []
  }
 ],
 "metadata": {
  "kernelspec": {
   "display_name": "Python 3 (ipykernel)",
   "language": "python",
   "name": "python3"
  },
  "language_info": {
   "codemirror_mode": {
    "name": "ipython",
    "version": 3
   },
   "file_extension": ".py",
   "mimetype": "text/x-python",
   "name": "python",
   "nbconvert_exporter": "python",
   "pygments_lexer": "ipython3",
   "version": "3.12.7"
  }
 },
 "nbformat": 4,
 "nbformat_minor": 4
}
