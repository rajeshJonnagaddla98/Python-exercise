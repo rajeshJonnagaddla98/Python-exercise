{
 "cells": [
  {
   "cell_type": "markdown",
   "metadata": {},
   "source": [
    "# Zip Simple Questions"
   ]
  },
  {
   "cell_type": "code",
   "execution_count": 1,
   "metadata": {},
   "outputs": [
    {
     "name": "stdout",
     "output_type": "stream",
     "text": [
      "<zip object at 0x00000204AC6FDE40>\n",
      "(('Dinesh', 'Karthi'), ('Suresh', 'Siva'))\n"
     ]
    }
   ],
   "source": [
    "'''1. Write a python program to combine two given tuples into a single tuple using zip() function.\n",
    "    Data:\n",
    "        x = (\"Dinesh\", \"Suresh\", \"Boss\")\n",
    "        y = (\"Karthi\", \"Siva\")\n",
    "    Expected Output:\n",
    "        <zip object at 0x00000209D8161D80>\n",
    "        (('Dinesh', 'Karthi'), ('Suresh', 'Siva'))'''\n",
    "\n",
    "x = (\"Dinesh\", \"Suresh\", \"Boss\")\n",
    "y = (\"Karthi\", \"Siva\")\n",
    "\n",
    "y = zip(x, y)\n",
    "print(y)\n",
    "print(tuple(y))\n",
    "        \n",
    "        \n",
    "        \n",
    "        "
   ]
  },
  {
   "cell_type": "code",
   "execution_count": 17,
   "metadata": {},
   "outputs": [
    {
     "name": "stdout",
     "output_type": "stream",
     "text": [
      "{'Dinesh': 'Karthi', 'Suresh': 'Siva', 'Boss': 'Bala'}\n",
      "{'Dinesh': 'Karthi', 'Suresh': 'Siva', 'Boss': 'Bala'}\n"
     ]
    }
   ],
   "source": [
    "'''2. Write a python program to combine two given tuples into a single dictionary using zip() function.\n",
    "    Data:\n",
    "        x = (\"Dinesh\", \"Suresh\", \"Boss\")\n",
    "        y = (\"Karthi\", \"Siva\")\n",
    "    Expected Output:\n",
    "        {'Dinesh': 'Karthi', 'Suresh': 'Siva', 'Boss': 'Bala'}'''\n",
    "\n",
    "x = (\"Dinesh\", \"Suresh\", \"Boss\")\n",
    "y = (\"Karthi\", \"Siva\", \"Bala\")\n",
    "\n",
    "print(dict(zip(x, y)))\n",
    "print(dict(zip(x, y)))\n"
   ]
  },
  {
   "cell_type": "code",
   "execution_count": 21,
   "metadata": {},
   "outputs": [
    {
     "name": "stdout",
     "output_type": "stream",
     "text": [
      "(('Dinesh', '23', 'A23'), ('Suresh', '27', 'B43'), ('Boss', '24', 'C34'))\n"
     ]
    }
   ],
   "source": [
    "'''3. Write a python program to combine three given lists into a tuple of tuples using zip() function. \n",
    "    Data:\n",
    "        x = [\"Dinesh\", \"Suresh\", \"Boss\"]\n",
    "        y = [\"23\", \"27\", \"24\"]\n",
    "        z = [\"A23\",\"B43\",\"C34\"]\n",
    "    Expected Output:\n",
    "        (('Dinesh', '23', 'A23'), ('Suresh', '27', 'B43'), ('Boss', '24', 'C34'))'''\n",
    "\n",
    "x = [\"Dinesh\", \"Suresh\", \"Boss\"]\n",
    "y = [\"23\", \"27\", \"24\"]\n",
    "z = [\"A23\",\"B43\",\"C34\"]\n",
    "\n",
    "print(tuple(zip(x, y, z)))\n",
    "\n",
    "        \n",
    "        \n",
    "        \n",
    "        "
   ]
  },
  {
   "cell_type": "code",
   "execution_count": 25,
   "metadata": {},
   "outputs": [
    {
     "name": "stdout",
     "output_type": "stream",
     "text": [
      "((1, 'one'), (2, 'two'), (3, 'three'))\n"
     ]
    }
   ],
   "source": [
    "'''4. Write a python program to combine two given lists into a tuple of tuples using zip() function.\n",
    "    Data:\n",
    "        a = [1, 2, 3, 4, 5]\n",
    "        b = ['one', 'two', 'three']\n",
    "    Expected Output:\n",
    "        ((1, 'one'), (2, 'two'), (3, 'three'))'''\n",
    "        \n",
    "a = [1, 2, 3, 4, 5]\n",
    "b = ['one', 'two', 'three']\n",
    "\n",
    "y = zip(a, b)\n",
    "print(tuple(y))\n",
    "        \n",
    "        "
   ]
  },
  {
   "cell_type": "code",
   "execution_count": 27,
   "metadata": {},
   "outputs": [
    {
     "name": "stdout",
     "output_type": "stream",
     "text": [
      "(('a', 'a', 'a'), ('1', '2', '3'))\n"
     ]
    }
   ],
   "source": [
    "'''5. Write a python program to convert the iterables of the given list into separate elements using zip() function.\n",
    "    Data:\n",
    "        a = ['a1', 'a2', 'a3']\n",
    "    Expected Output:\n",
    "        (('a', 'a', 'a'), ('1', '2', '3'))'''\n",
    "\n",
    "a = ['a1', 'a2', 'a3']\n",
    "\n",
    "y = zip(*a)\n",
    "print(tuple(y))\n",
    "        \n",
    "        \n",
    "        \n",
    "        "
   ]
  },
  {
   "cell_type": "code",
   "execution_count": 29,
   "metadata": {},
   "outputs": [
    {
     "name": "stdout",
     "output_type": "stream",
     "text": [
      "((1, 4), (2, 5), (3, 6))\n"
     ]
    }
   ],
   "source": [
    "'''6. Write a python program to zip the given matrix.\n",
    "    Data:\n",
    "        [[1,2,3], [4,5,6]]\n",
    "    Expected Output:\n",
    "        ((1, 4), (2, 5), (3, 6))'''\n",
    "l = [[1,2,3], [4,5,6]]\n",
    "\n",
    "y = tuple(zip(*l))\n",
    "\n",
    "print(y)\n",
    "\n",
    "        \n",
    "        \n",
    "        "
   ]
  },
  {
   "cell_type": "code",
   "execution_count": 35,
   "metadata": {},
   "outputs": [
    {
     "name": "stdout",
     "output_type": "stream",
     "text": [
      "1 Boss\n",
      "2 Suresh\n",
      "3 Dinesh\n",
      "4 Karthi\n"
     ]
    }
   ],
   "source": [
    "'''7. Write a python program to iterate over the given two lists after zipping it.\n",
    "    Data:\n",
    "        x = ['1', '2', '3', '4']\n",
    "        y = ['Boss', 'Suresh', 'Dinesh', 'Karthi']\n",
    "    Expected Output:\n",
    "        1 Boss\n",
    "        2 Suresh\n",
    "        3 Dinesh\n",
    "        4 Karthi'''\n",
    "        \n",
    "x = ['1', '2', '3', '4']\n",
    "y = ['Boss', 'Suresh', 'Dinesh', 'Karthi']     \n",
    "\n",
    "for i, j in zip(x, y):\n",
    "    print(i, j)\n",
    "        \n",
    "        "
   ]
  },
  {
   "cell_type": "code",
   "execution_count": 39,
   "metadata": {},
   "outputs": [
    {
     "name": "stdout",
     "output_type": "stream",
     "text": [
      "((12.3, 78.13), (10.99, 0.89), (3.33, 4.6), (2.97, 0.7))\n"
     ]
    }
   ],
   "source": [
    "'''8. Write a python program to combine two given lists of float values into a tuple of tuples using zip() function. \n",
    "    Data:\n",
    "        x = [12.3, 10.99, 3.33, 2.97]\n",
    "        y = [78.13, 0.89, 4.6, 0.7]\n",
    "    Expected Output:\n",
    "        ((12.3, 78.13), (10.99, 0.89), (3.33, 4.6), (2.97, 0.7))'''\n",
    "        \n",
    "x = [12.3, 10.99, 3.33, 2.97]\n",
    "y = [78.13, 0.89, 4.6, 0.7]        \n",
    "\n",
    "z = tuple(zip(x,y))\n",
    "\n",
    "print(z)\n",
    "        "
   ]
  },
  {
   "cell_type": "code",
   "execution_count": 41,
   "metadata": {},
   "outputs": [
    {
     "name": "stdout",
     "output_type": "stream",
     "text": [
      "(('C',), ('C++',), ('Python',), ('Java',))\n"
     ]
    }
   ],
   "source": [
    "'''9. Write a python program to convert a list of string into a tuple of tuple having one element in each tuple using zip() function.\n",
    "    Data:\n",
    "        x = ['C', 'C++', 'Python', 'Java']\n",
    "    Expected Output:\n",
    "        (('C',), ('C++',), ('Python',), ('Java',))'''\n",
    "        \n",
    "x = ['C', 'C++', 'Python', 'Java']\n",
    "\n",
    "y = tuple(zip(x))\n",
    "\n",
    "print(y)\n",
    "        \n",
    "        "
   ]
  },
  {
   "cell_type": "code",
   "execution_count": 47,
   "metadata": {},
   "outputs": [
    {
     "name": "stdout",
     "output_type": "stream",
     "text": [
      "(1, 'a')\n",
      "(2, 'b')\n",
      "(3, 'c')\n"
     ]
    }
   ],
   "source": [
    "'''10. Write a python program to zip two given lists using for loop.\n",
    "    Data:\n",
    "        a = [1,2,3]\n",
    "        b = ['a','b','c']\n",
    "    Expected Output:\n",
    "        (1, 'a')\n",
    "        (2, 'b')\n",
    "        (3, 'c')'''\n",
    "a = [1,2,3]\n",
    "b = ['a','b','c']\n",
    "\n",
    "for i in zip([1,2,3],['a','b','c']):\n",
    "        print(i)\n",
    "        \n",
    "        \n",
    "        \n",
    "        "
   ]
  },
  {
   "cell_type": "code",
   "execution_count": null,
   "metadata": {},
   "outputs": [],
   "source": []
  }
 ],
 "metadata": {
  "kernelspec": {
   "display_name": "Python 3 (ipykernel)",
   "language": "python",
   "name": "python3"
  },
  "language_info": {
   "codemirror_mode": {
    "name": "ipython",
    "version": 3
   },
   "file_extension": ".py",
   "mimetype": "text/x-python",
   "name": "python",
   "nbconvert_exporter": "python",
   "pygments_lexer": "ipython3",
   "version": "3.12.7"
  }
 },
 "nbformat": 4,
 "nbformat_minor": 4
}
